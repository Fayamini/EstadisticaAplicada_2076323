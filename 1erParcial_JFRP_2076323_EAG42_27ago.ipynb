{
 "cells": [
  {
   "cell_type": "markdown",
   "metadata": {},
   "source": [
    "# 1er Parcial\n",
    "## Joel Fayam Rivera Peña 2076323\n",
    "### Estadística Aplicada  Gpo.-42"
   ]
  },
  {
   "cell_type": "code",
   "execution_count": 1,
   "metadata": {},
   "outputs": [
    {
     "name": "stdout",
     "output_type": "stream",
     "text": [
      "Requirement already satisfied: numpy in c:\\users\\dell\\appdata\\local\\programs\\python\\python311\\lib\\site-packages (1.25.2)\n",
      "Note: you may need to restart the kernel to use updated packages.\n"
     ]
    },
    {
     "name": "stderr",
     "output_type": "stream",
     "text": [
      "\n",
      "[notice] A new release of pip is available: 23.1.2 -> 23.2.1\n",
      "[notice] To update, run: python.exe -m pip install --upgrade pip\n"
     ]
    }
   ],
   "source": [
    "pip install numpy"
   ]
  },
  {
   "cell_type": "code",
   "execution_count": 2,
   "metadata": {},
   "outputs": [
    {
     "name": "stdout",
     "output_type": "stream",
     "text": [
      "Requirement already satisfied: pandas in c:\\users\\dell\\appdata\\local\\programs\\python\\python311\\lib\\site-packages (2.0.3)\n",
      "Requirement already satisfied: python-dateutil>=2.8.2 in c:\\users\\dell\\appdata\\roaming\\python\\python311\\site-packages (from pandas) (2.8.2)\n",
      "Requirement already satisfied: pytz>=2020.1 in c:\\users\\dell\\appdata\\local\\programs\\python\\python311\\lib\\site-packages (from pandas) (2023.3)\n",
      "Requirement already satisfied: tzdata>=2022.1 in c:\\users\\dell\\appdata\\local\\programs\\python\\python311\\lib\\site-packages (from pandas) (2023.3)\n",
      "Requirement already satisfied: numpy>=1.21.0 in c:\\users\\dell\\appdata\\local\\programs\\python\\python311\\lib\\site-packages (from pandas) (1.25.2)\n",
      "Requirement already satisfied: six>=1.5 in c:\\users\\dell\\appdata\\roaming\\python\\python311\\site-packages (from python-dateutil>=2.8.2->pandas) (1.16.0)\n",
      "Note: you may need to restart the kernel to use updated packages.\n"
     ]
    },
    {
     "name": "stderr",
     "output_type": "stream",
     "text": [
      "\n",
      "[notice] A new release of pip is available: 23.1.2 -> 23.2.1\n",
      "[notice] To update, run: python.exe -m pip install --upgrade pip\n"
     ]
    }
   ],
   "source": [
    "pip install pandas"
   ]
  },
  {
   "cell_type": "code",
   "execution_count": 3,
   "metadata": {},
   "outputs": [
    {
     "name": "stdout",
     "output_type": "stream",
     "text": [
      "Requirement already satisfied: matplotlib in c:\\users\\dell\\appdata\\local\\programs\\python\\python311\\lib\\site-packages (3.7.2)\n",
      "Requirement already satisfied: contourpy>=1.0.1 in c:\\users\\dell\\appdata\\local\\programs\\python\\python311\\lib\\site-packages (from matplotlib) (1.1.0)\n",
      "Requirement already satisfied: cycler>=0.10 in c:\\users\\dell\\appdata\\local\\programs\\python\\python311\\lib\\site-packages (from matplotlib) (0.11.0)\n",
      "Requirement already satisfied: fonttools>=4.22.0 in c:\\users\\dell\\appdata\\local\\programs\\python\\python311\\lib\\site-packages (from matplotlib) (4.42.0)\n",
      "Requirement already satisfied: kiwisolver>=1.0.1 in c:\\users\\dell\\appdata\\local\\programs\\python\\python311\\lib\\site-packages (from matplotlib) (1.4.4)\n",
      "Requirement already satisfied: numpy>=1.20 in c:\\users\\dell\\appdata\\local\\programs\\python\\python311\\lib\\site-packages (from matplotlib) (1.25.2)\n",
      "Requirement already satisfied: packaging>=20.0 in c:\\users\\dell\\appdata\\roaming\\python\\python311\\site-packages (from matplotlib) (23.1)\n",
      "Requirement already satisfied: pillow>=6.2.0 in c:\\users\\dell\\appdata\\local\\programs\\python\\python311\\lib\\site-packages (from matplotlib) (10.0.0)\n",
      "Requirement already satisfied: pyparsing<3.1,>=2.3.1 in c:\\users\\dell\\appdata\\local\\programs\\python\\python311\\lib\\site-packages (from matplotlib) (3.0.9)\n",
      "Requirement already satisfied: python-dateutil>=2.7 in c:\\users\\dell\\appdata\\roaming\\python\\python311\\site-packages (from matplotlib) (2.8.2)\n",
      "Requirement already satisfied: six>=1.5 in c:\\users\\dell\\appdata\\roaming\\python\\python311\\site-packages (from python-dateutil>=2.7->matplotlib) (1.16.0)\n",
      "Note: you may need to restart the kernel to use updated packages.\n"
     ]
    },
    {
     "name": "stderr",
     "output_type": "stream",
     "text": [
      "\n",
      "[notice] A new release of pip is available: 23.1.2 -> 23.2.1\n",
      "[notice] To update, run: python.exe -m pip install --upgrade pip\n"
     ]
    }
   ],
   "source": [
    "pip install matplotlib"
   ]
  },
  {
   "cell_type": "code",
   "execution_count": 4,
   "metadata": {},
   "outputs": [],
   "source": [
    "## Librerías\n",
    "import numpy as np\n",
    "import pandas as pd\n",
    "import matplotlib.pyplot as plt\n",
    "%matplotlib inline"
   ]
  },
  {
   "cell_type": "markdown",
   "metadata": {},
   "source": [
    "### 1. Películas"
   ]
  },
  {
   "cell_type": "code",
   "execution_count": 5,
   "metadata": {},
   "outputs": [],
   "source": [
    "Peliculas=pd.read_csv('https://raw.githubusercontent.com/jimmyzac/Estadistica-Aplicada-FCFM-UANL/main/bases_datos/peliculas.csv')"
   ]
  },
  {
   "cell_type": "code",
   "execution_count": 6,
   "metadata": {},
   "outputs": [
    {
     "data": {
      "text/html": [
       "<div>\n",
       "<style scoped>\n",
       "    .dataframe tbody tr th:only-of-type {\n",
       "        vertical-align: middle;\n",
       "    }\n",
       "\n",
       "    .dataframe tbody tr th {\n",
       "        vertical-align: top;\n",
       "    }\n",
       "\n",
       "    .dataframe thead th {\n",
       "        text-align: right;\n",
       "    }\n",
       "</style>\n",
       "<table border=\"1\" class=\"dataframe\">\n",
       "  <thead>\n",
       "    <tr style=\"text-align: right;\">\n",
       "      <th></th>\n",
       "      <th>title</th>\n",
       "      <th>description</th>\n",
       "      <th>release_year</th>\n",
       "      <th>rental_rate</th>\n",
       "      <th>length</th>\n",
       "      <th>rating</th>\n",
       "      <th>special_features</th>\n",
       "      <th>category</th>\n",
       "    </tr>\n",
       "  </thead>\n",
       "  <tbody>\n",
       "    <tr>\n",
       "      <th>0</th>\n",
       "      <td>Academy Dinosaur</td>\n",
       "      <td>A Epic Drama of a Feminist And a Mad Scientist...</td>\n",
       "      <td>2006</td>\n",
       "      <td>0.99</td>\n",
       "      <td>86</td>\n",
       "      <td>PG</td>\n",
       "      <td>Deleted Scenes,Behind the Scenes</td>\n",
       "      <td>Documentary</td>\n",
       "    </tr>\n",
       "    <tr>\n",
       "      <th>1</th>\n",
       "      <td>Ace Goldfinger</td>\n",
       "      <td>A Astounding Epistle of a Database Administrat...</td>\n",
       "      <td>2006</td>\n",
       "      <td>4.99</td>\n",
       "      <td>48</td>\n",
       "      <td>G</td>\n",
       "      <td>Trailers,Deleted Scenes</td>\n",
       "      <td>Horror</td>\n",
       "    </tr>\n",
       "    <tr>\n",
       "      <th>2</th>\n",
       "      <td>Adaptation Holes</td>\n",
       "      <td>A Astounding Reflection of a Lumberjack And a ...</td>\n",
       "      <td>2006</td>\n",
       "      <td>2.99</td>\n",
       "      <td>50</td>\n",
       "      <td>NC-17</td>\n",
       "      <td>Trailers,Deleted Scenes</td>\n",
       "      <td>Documentary</td>\n",
       "    </tr>\n",
       "    <tr>\n",
       "      <th>3</th>\n",
       "      <td>Affair Prejudice</td>\n",
       "      <td>A Fanciful Documentary of a Frisbee And a Lumb...</td>\n",
       "      <td>2006</td>\n",
       "      <td>2.99</td>\n",
       "      <td>117</td>\n",
       "      <td>G</td>\n",
       "      <td>Commentaries,Behind the Scenes</td>\n",
       "      <td>Horror</td>\n",
       "    </tr>\n",
       "    <tr>\n",
       "      <th>4</th>\n",
       "      <td>African Egg</td>\n",
       "      <td>A Fast-Paced Documentary of a Pastry Chef And ...</td>\n",
       "      <td>2006</td>\n",
       "      <td>2.99</td>\n",
       "      <td>130</td>\n",
       "      <td>G</td>\n",
       "      <td>Deleted Scenes</td>\n",
       "      <td>Family</td>\n",
       "    </tr>\n",
       "  </tbody>\n",
       "</table>\n",
       "</div>"
      ],
      "text/plain": [
       "              title                                        description  \\\n",
       "0  Academy Dinosaur  A Epic Drama of a Feminist And a Mad Scientist...   \n",
       "1    Ace Goldfinger  A Astounding Epistle of a Database Administrat...   \n",
       "2  Adaptation Holes  A Astounding Reflection of a Lumberjack And a ...   \n",
       "3  Affair Prejudice  A Fanciful Documentary of a Frisbee And a Lumb...   \n",
       "4       African Egg  A Fast-Paced Documentary of a Pastry Chef And ...   \n",
       "\n",
       "   release_year  rental_rate  length rating                  special_features  \\\n",
       "0          2006         0.99      86     PG  Deleted Scenes,Behind the Scenes   \n",
       "1          2006         4.99      48      G           Trailers,Deleted Scenes   \n",
       "2          2006         2.99      50  NC-17           Trailers,Deleted Scenes   \n",
       "3          2006         2.99     117      G    Commentaries,Behind the Scenes   \n",
       "4          2006         2.99     130      G                    Deleted Scenes   \n",
       "\n",
       "      category  \n",
       "0  Documentary  \n",
       "1       Horror  \n",
       "2  Documentary  \n",
       "3       Horror  \n",
       "4       Family  "
      ]
     },
     "execution_count": 6,
     "metadata": {},
     "output_type": "execute_result"
    }
   ],
   "source": [
    "Peliculas.head()"
   ]
  },
  {
   "cell_type": "code",
   "execution_count": 7,
   "metadata": {},
   "outputs": [
    {
     "name": "stdout",
     "output_type": "stream",
     "text": [
      "Existe un total de 1000 peliculas\n",
      "Dichas peliculas se dividen en 16 generos distintos\n",
      "Y en total, tienen una duración promedio de 115.272 minutos\n"
     ]
    }
   ],
   "source": [
    "# Cuantas  películas  hay,  cuantos  géneros,  y  cuanto  duran  en  promedio  las películas\n",
    "Cant_Pelis=Peliculas['title'].count()\n",
    "Cant_Generos=Peliculas['category'].nunique()\n",
    "Duracion_Promedio=Peliculas['length'].mean()\n",
    "print(f'Existe un total de {Cant_Pelis} peliculas')\n",
    "print(f'Dichas peliculas se dividen en {Cant_Generos} generos distintos')\n",
    "print(f'Y en total, tienen una duración promedio de {Duracion_Promedio} minutos')"
   ]
  },
  {
   "cell_type": "code",
   "execution_count": 8,
   "metadata": {},
   "outputs": [
    {
     "data": {
      "text/html": [
       "<div>\n",
       "<style scoped>\n",
       "    .dataframe tbody tr th:only-of-type {\n",
       "        vertical-align: middle;\n",
       "    }\n",
       "\n",
       "    .dataframe tbody tr th {\n",
       "        vertical-align: top;\n",
       "    }\n",
       "\n",
       "    .dataframe thead th {\n",
       "        text-align: right;\n",
       "    }\n",
       "</style>\n",
       "<table border=\"1\" class=\"dataframe\">\n",
       "  <thead>\n",
       "    <tr style=\"text-align: right;\">\n",
       "      <th></th>\n",
       "      <th>title</th>\n",
       "      <th>description</th>\n",
       "      <th>release_year</th>\n",
       "      <th>rental_rate</th>\n",
       "      <th>length</th>\n",
       "      <th>rating</th>\n",
       "      <th>special_features</th>\n",
       "      <th>category</th>\n",
       "    </tr>\n",
       "  </thead>\n",
       "  <tbody>\n",
       "    <tr>\n",
       "      <th>39</th>\n",
       "      <td>Army Flintstones</td>\n",
       "      <td>A Boring Saga of a Database Administrator And ...</td>\n",
       "      <td>2006</td>\n",
       "      <td>0.99</td>\n",
       "      <td>148</td>\n",
       "      <td>R</td>\n",
       "      <td>Trailers,Commentaries</td>\n",
       "      <td>Documentary</td>\n",
       "    </tr>\n",
       "    <tr>\n",
       "      <th>57</th>\n",
       "      <td>Beach Heartbreakers</td>\n",
       "      <td>A Fateful Display of a Womanizer And a Mad Sci...</td>\n",
       "      <td>2006</td>\n",
       "      <td>2.99</td>\n",
       "      <td>122</td>\n",
       "      <td>G</td>\n",
       "      <td>Deleted Scenes,Behind the Scenes</td>\n",
       "      <td>Documentary</td>\n",
       "    </tr>\n",
       "    <tr>\n",
       "      <th>128</th>\n",
       "      <td>Cause Date</td>\n",
       "      <td>A Taut Tale of a Explorer And a Pastry Chef wh...</td>\n",
       "      <td>2006</td>\n",
       "      <td>2.99</td>\n",
       "      <td>179</td>\n",
       "      <td>R</td>\n",
       "      <td>Commentaries,Deleted Scenes,Behind the Scenes</td>\n",
       "      <td>Documentary</td>\n",
       "    </tr>\n",
       "    <tr>\n",
       "      <th>141</th>\n",
       "      <td>Chicken Hellfighters</td>\n",
       "      <td>A Emotional Drama of a Dog And a Explorer who ...</td>\n",
       "      <td>2006</td>\n",
       "      <td>0.99</td>\n",
       "      <td>122</td>\n",
       "      <td>PG</td>\n",
       "      <td>Trailers,Commentaries,Deleted Scenes,Behind th...</td>\n",
       "      <td>Documentary</td>\n",
       "    </tr>\n",
       "    <tr>\n",
       "      <th>155</th>\n",
       "      <td>Clerks Angels</td>\n",
       "      <td>A Thrilling Display of a Sumo Wrestler And a G...</td>\n",
       "      <td>2006</td>\n",
       "      <td>4.99</td>\n",
       "      <td>164</td>\n",
       "      <td>G</td>\n",
       "      <td>Commentaries</td>\n",
       "      <td>Documentary</td>\n",
       "    </tr>\n",
       "  </tbody>\n",
       "</table>\n",
       "</div>"
      ],
      "text/plain": [
       "                    title                                        description  \\\n",
       "39       Army Flintstones  A Boring Saga of a Database Administrator And ...   \n",
       "57    Beach Heartbreakers  A Fateful Display of a Womanizer And a Mad Sci...   \n",
       "128            Cause Date  A Taut Tale of a Explorer And a Pastry Chef wh...   \n",
       "141  Chicken Hellfighters  A Emotional Drama of a Dog And a Explorer who ...   \n",
       "155         Clerks Angels  A Thrilling Display of a Sumo Wrestler And a G...   \n",
       "\n",
       "     release_year  rental_rate  length rating  \\\n",
       "39           2006         0.99     148      R   \n",
       "57           2006         2.99     122      G   \n",
       "128          2006         2.99     179      R   \n",
       "141          2006         0.99     122     PG   \n",
       "155          2006         4.99     164      G   \n",
       "\n",
       "                                      special_features     category  \n",
       "39                               Trailers,Commentaries  Documentary  \n",
       "57                    Deleted Scenes,Behind the Scenes  Documentary  \n",
       "128      Commentaries,Deleted Scenes,Behind the Scenes  Documentary  \n",
       "141  Trailers,Commentaries,Deleted Scenes,Behind th...  Documentary  \n",
       "155                                       Commentaries  Documentary  "
      ]
     },
     "execution_count": 8,
     "metadata": {},
     "output_type": "execute_result"
    }
   ],
   "source": [
    "# crea  un  dataframe  llamado películas_dormir  con  las  películas  que  tienen  una duración superior a 2 horas y sean documentale\n",
    "peliculas_dormir=pd.DataFrame(Peliculas.query('category==\"Documentary\"& length>120'))\n",
    "peliculas_dormir.head()"
   ]
  },
  {
   "cell_type": "code",
   "execution_count": 9,
   "metadata": {},
   "outputs": [
    {
     "data": {
      "text/plain": [
       "category\n",
       "Foreign        73\n",
       "Sports         73\n",
       "Family         69\n",
       "Documentary    68\n",
       "Animation      66\n",
       "Action         64\n",
       "New            63\n",
       "Drama          61\n",
       "Games          61\n",
       "Sci-Fi         61\n",
       "Children       60\n",
       "Comedy         58\n",
       "Classics       57\n",
       "Horror         56\n",
       "Travel         56\n",
       "Music          51\n",
       "Name: count, dtype: int64"
      ]
     },
     "execution_count": 9,
     "metadata": {},
     "output_type": "execute_result"
    }
   ],
   "source": [
    "# Contar cuántas películas de cada género existe\n",
    "Peliculas.value_counts('category')"
   ]
  },
  {
   "cell_type": "code",
   "execution_count": 10,
   "metadata": {},
   "outputs": [
    {
     "data": {
      "text/plain": [
       "category\n",
       "Action         111.61\n",
       "Animation      111.02\n",
       "Children       109.80\n",
       "Classics       111.67\n",
       "Comedy         115.83\n",
       "Documentary    108.75\n",
       "Drama          119.89\n",
       "Family         114.78\n",
       "Foreign        121.70\n",
       "Games          127.84\n",
       "Horror         112.48\n",
       "Music          113.65\n",
       "New            111.13\n",
       "Sci-Fi         108.20\n",
       "Sports         127.51\n",
       "Travel         113.38\n",
       "Name: length, dtype: float64"
      ]
     },
     "execution_count": 10,
     "metadata": {},
     "output_type": "execute_result"
    }
   ],
   "source": [
    "# Calcular la duración promedio de las películas de cada géner\n",
    "Peliculas.groupby('category')['length'].agg('mean').round(2)"
   ]
  },
  {
   "cell_type": "code",
   "execution_count": 11,
   "metadata": {},
   "outputs": [],
   "source": [
    "# Crear una nueva columna que indique si una película es \n",
    "# \"Corta\" (duración menor a 1.5 horas), \"Normal\" (entre 1.5 y 2.5 horas) o \"Larga\" (mayor a 2.5 horas).\n",
    "condicion=[ Peliculas['length']<=90,\n",
    "            Peliculas['length']<=150,\n",
    "            Peliculas['length']>150]\n",
    "clasificacion=['Corta','Normal','Larga']\n",
    "Peliculas['Duracion']=np.select(condicion,clasificacion)"
   ]
  },
  {
   "cell_type": "code",
   "execution_count": 12,
   "metadata": {},
   "outputs": [
    {
     "data": {
      "text/html": [
       "<div>\n",
       "<style scoped>\n",
       "    .dataframe tbody tr th:only-of-type {\n",
       "        vertical-align: middle;\n",
       "    }\n",
       "\n",
       "    .dataframe tbody tr th {\n",
       "        vertical-align: top;\n",
       "    }\n",
       "\n",
       "    .dataframe thead th {\n",
       "        text-align: right;\n",
       "    }\n",
       "</style>\n",
       "<table border=\"1\" class=\"dataframe\">\n",
       "  <thead>\n",
       "    <tr style=\"text-align: right;\">\n",
       "      <th></th>\n",
       "      <th>title</th>\n",
       "      <th>description</th>\n",
       "      <th>release_year</th>\n",
       "      <th>rental_rate</th>\n",
       "      <th>length</th>\n",
       "      <th>rating</th>\n",
       "      <th>special_features</th>\n",
       "      <th>category</th>\n",
       "      <th>Duracion</th>\n",
       "    </tr>\n",
       "  </thead>\n",
       "  <tbody>\n",
       "    <tr>\n",
       "      <th>0</th>\n",
       "      <td>Academy Dinosaur</td>\n",
       "      <td>A Epic Drama of a Feminist And a Mad Scientist...</td>\n",
       "      <td>2006</td>\n",
       "      <td>0.99</td>\n",
       "      <td>86</td>\n",
       "      <td>PG</td>\n",
       "      <td>Deleted Scenes,Behind the Scenes</td>\n",
       "      <td>Documentary</td>\n",
       "      <td>Corta</td>\n",
       "    </tr>\n",
       "    <tr>\n",
       "      <th>1</th>\n",
       "      <td>Ace Goldfinger</td>\n",
       "      <td>A Astounding Epistle of a Database Administrat...</td>\n",
       "      <td>2006</td>\n",
       "      <td>4.99</td>\n",
       "      <td>48</td>\n",
       "      <td>G</td>\n",
       "      <td>Trailers,Deleted Scenes</td>\n",
       "      <td>Horror</td>\n",
       "      <td>Corta</td>\n",
       "    </tr>\n",
       "    <tr>\n",
       "      <th>2</th>\n",
       "      <td>Adaptation Holes</td>\n",
       "      <td>A Astounding Reflection of a Lumberjack And a ...</td>\n",
       "      <td>2006</td>\n",
       "      <td>2.99</td>\n",
       "      <td>50</td>\n",
       "      <td>NC-17</td>\n",
       "      <td>Trailers,Deleted Scenes</td>\n",
       "      <td>Documentary</td>\n",
       "      <td>Corta</td>\n",
       "    </tr>\n",
       "    <tr>\n",
       "      <th>3</th>\n",
       "      <td>Affair Prejudice</td>\n",
       "      <td>A Fanciful Documentary of a Frisbee And a Lumb...</td>\n",
       "      <td>2006</td>\n",
       "      <td>2.99</td>\n",
       "      <td>117</td>\n",
       "      <td>G</td>\n",
       "      <td>Commentaries,Behind the Scenes</td>\n",
       "      <td>Horror</td>\n",
       "      <td>Normal</td>\n",
       "    </tr>\n",
       "    <tr>\n",
       "      <th>4</th>\n",
       "      <td>African Egg</td>\n",
       "      <td>A Fast-Paced Documentary of a Pastry Chef And ...</td>\n",
       "      <td>2006</td>\n",
       "      <td>2.99</td>\n",
       "      <td>130</td>\n",
       "      <td>G</td>\n",
       "      <td>Deleted Scenes</td>\n",
       "      <td>Family</td>\n",
       "      <td>Normal</td>\n",
       "    </tr>\n",
       "  </tbody>\n",
       "</table>\n",
       "</div>"
      ],
      "text/plain": [
       "              title                                        description  \\\n",
       "0  Academy Dinosaur  A Epic Drama of a Feminist And a Mad Scientist...   \n",
       "1    Ace Goldfinger  A Astounding Epistle of a Database Administrat...   \n",
       "2  Adaptation Holes  A Astounding Reflection of a Lumberjack And a ...   \n",
       "3  Affair Prejudice  A Fanciful Documentary of a Frisbee And a Lumb...   \n",
       "4       African Egg  A Fast-Paced Documentary of a Pastry Chef And ...   \n",
       "\n",
       "   release_year  rental_rate  length rating                  special_features  \\\n",
       "0          2006         0.99      86     PG  Deleted Scenes,Behind the Scenes   \n",
       "1          2006         4.99      48      G           Trailers,Deleted Scenes   \n",
       "2          2006         2.99      50  NC-17           Trailers,Deleted Scenes   \n",
       "3          2006         2.99     117      G    Commentaries,Behind the Scenes   \n",
       "4          2006         2.99     130      G                    Deleted Scenes   \n",
       "\n",
       "      category Duracion  \n",
       "0  Documentary    Corta  \n",
       "1       Horror    Corta  \n",
       "2  Documentary    Corta  \n",
       "3       Horror   Normal  \n",
       "4       Family   Normal  "
      ]
     },
     "execution_count": 12,
     "metadata": {},
     "output_type": "execute_result"
    }
   ],
   "source": [
    "Peliculas.head()"
   ]
  },
  {
   "cell_type": "markdown",
   "metadata": {},
   "source": [
    "### 2. Asgard"
   ]
  },
  {
   "cell_type": "code",
   "execution_count": 13,
   "metadata": {},
   "outputs": [],
   "source": [
    "Asgard=pd.read_csv('https://raw.githubusercontent.com/jimmyzac/Estadistica-Aplicada-FCFM-UANL/main/bases_datos/poblacion_Asgard.csv')"
   ]
  },
  {
   "cell_type": "code",
   "execution_count": 14,
   "metadata": {},
   "outputs": [
    {
     "data": {
      "text/html": [
       "<div>\n",
       "<style scoped>\n",
       "    .dataframe tbody tr th:only-of-type {\n",
       "        vertical-align: middle;\n",
       "    }\n",
       "\n",
       "    .dataframe tbody tr th {\n",
       "        vertical-align: top;\n",
       "    }\n",
       "\n",
       "    .dataframe thead th {\n",
       "        text-align: right;\n",
       "    }\n",
       "</style>\n",
       "<table border=\"1\" class=\"dataframe\">\n",
       "  <thead>\n",
       "    <tr style=\"text-align: right;\">\n",
       "      <th></th>\n",
       "      <th>País</th>\n",
       "      <th>Estado</th>\n",
       "      <th>Municipio</th>\n",
       "      <th>Población</th>\n",
       "    </tr>\n",
       "  </thead>\n",
       "  <tbody>\n",
       "    <tr>\n",
       "      <th>0</th>\n",
       "      <td>Asgard</td>\n",
       "      <td>Pandora</td>\n",
       "      <td>Reino Tierra</td>\n",
       "      <td>377896</td>\n",
       "    </tr>\n",
       "    <tr>\n",
       "      <th>1</th>\n",
       "      <td>Asgard</td>\n",
       "      <td>Alderaan</td>\n",
       "      <td>Fuente Dorada</td>\n",
       "      <td>49984</td>\n",
       "    </tr>\n",
       "    <tr>\n",
       "      <th>2</th>\n",
       "      <td>Asgard</td>\n",
       "      <td>Genosha</td>\n",
       "      <td>El Carmen</td>\n",
       "      <td>303918</td>\n",
       "    </tr>\n",
       "    <tr>\n",
       "      <th>3</th>\n",
       "      <td>Asgard</td>\n",
       "      <td>Naboo</td>\n",
       "      <td>Omashu</td>\n",
       "      <td>265712</td>\n",
       "    </tr>\n",
       "    <tr>\n",
       "      <th>4</th>\n",
       "      <td>Asgard</td>\n",
       "      <td>Mordor</td>\n",
       "      <td>Don Bosco</td>\n",
       "      <td>121151</td>\n",
       "    </tr>\n",
       "  </tbody>\n",
       "</table>\n",
       "</div>"
      ],
      "text/plain": [
       "     País    Estado      Municipio  Población\n",
       "0  Asgard   Pandora   Reino Tierra     377896\n",
       "1  Asgard  Alderaan  Fuente Dorada      49984\n",
       "2  Asgard   Genosha      El Carmen     303918\n",
       "3  Asgard     Naboo         Omashu     265712\n",
       "4  Asgard    Mordor      Don Bosco     121151"
      ]
     },
     "execution_count": 14,
     "metadata": {},
     "output_type": "execute_result"
    }
   ],
   "source": [
    "Asgard.head()"
   ]
  },
  {
   "cell_type": "code",
   "execution_count": 15,
   "metadata": {},
   "outputs": [
    {
     "data": {
      "text/html": [
       "<div>\n",
       "<style scoped>\n",
       "    .dataframe tbody tr th:only-of-type {\n",
       "        vertical-align: middle;\n",
       "    }\n",
       "\n",
       "    .dataframe tbody tr th {\n",
       "        vertical-align: top;\n",
       "    }\n",
       "\n",
       "    .dataframe thead th {\n",
       "        text-align: right;\n",
       "    }\n",
       "</style>\n",
       "<table border=\"1\" class=\"dataframe\">\n",
       "  <thead>\n",
       "    <tr style=\"text-align: right;\">\n",
       "      <th></th>\n",
       "      <th>País</th>\n",
       "      <th>Estado</th>\n",
       "      <th>Municipio</th>\n",
       "      <th>Población</th>\n",
       "    </tr>\n",
       "  </thead>\n",
       "  <tbody>\n",
       "    <tr>\n",
       "      <th>16</th>\n",
       "      <td>Asgard</td>\n",
       "      <td>Alderaan</td>\n",
       "      <td>Ciudad Jedi</td>\n",
       "      <td>130312</td>\n",
       "    </tr>\n",
       "    <tr>\n",
       "      <th>1</th>\n",
       "      <td>Asgard</td>\n",
       "      <td>Alderaan</td>\n",
       "      <td>Fuente Dorada</td>\n",
       "      <td>49984</td>\n",
       "    </tr>\n",
       "    <tr>\n",
       "      <th>31</th>\n",
       "      <td>Asgard</td>\n",
       "      <td>Alderaan</td>\n",
       "      <td>Luz azul</td>\n",
       "      <td>914910</td>\n",
       "    </tr>\n",
       "    <tr>\n",
       "      <th>76</th>\n",
       "      <td>Asgard</td>\n",
       "      <td>Alderaan</td>\n",
       "      <td>Madero</td>\n",
       "      <td>774290</td>\n",
       "    </tr>\n",
       "    <tr>\n",
       "      <th>46</th>\n",
       "      <td>Asgard</td>\n",
       "      <td>Alderaan</td>\n",
       "      <td>San Isidro</td>\n",
       "      <td>159338</td>\n",
       "    </tr>\n",
       "    <tr>\n",
       "      <th>...</th>\n",
       "      <td>...</td>\n",
       "      <td>...</td>\n",
       "      <td>...</td>\n",
       "      <td>...</td>\n",
       "    </tr>\n",
       "    <tr>\n",
       "      <th>8</th>\n",
       "      <td>Asgard</td>\n",
       "      <td>Yaven</td>\n",
       "      <td>El Bosque</td>\n",
       "      <td>649663</td>\n",
       "    </tr>\n",
       "    <tr>\n",
       "      <th>83</th>\n",
       "      <td>Asgard</td>\n",
       "      <td>Yaven</td>\n",
       "      <td>Green Flag</td>\n",
       "      <td>380989</td>\n",
       "    </tr>\n",
       "    <tr>\n",
       "      <th>68</th>\n",
       "      <td>Asgard</td>\n",
       "      <td>Yaven</td>\n",
       "      <td>Santa María</td>\n",
       "      <td>111687</td>\n",
       "    </tr>\n",
       "    <tr>\n",
       "      <th>53</th>\n",
       "      <td>Asgard</td>\n",
       "      <td>Yaven</td>\n",
       "      <td>Villa Wendy</td>\n",
       "      <td>646914</td>\n",
       "    </tr>\n",
       "    <tr>\n",
       "      <th>38</th>\n",
       "      <td>Asgard</td>\n",
       "      <td>Yaven</td>\n",
       "      <td>Villa amarilla</td>\n",
       "      <td>274109</td>\n",
       "    </tr>\n",
       "  </tbody>\n",
       "</table>\n",
       "<p>90 rows × 4 columns</p>\n",
       "</div>"
      ],
      "text/plain": [
       "      País    Estado       Municipio  Población\n",
       "16  Asgard  Alderaan     Ciudad Jedi     130312\n",
       "1   Asgard  Alderaan   Fuente Dorada      49984\n",
       "31  Asgard  Alderaan        Luz azul     914910\n",
       "76  Asgard  Alderaan          Madero     774290\n",
       "46  Asgard  Alderaan      San Isidro     159338\n",
       "..     ...       ...             ...        ...\n",
       "8   Asgard     Yaven       El Bosque     649663\n",
       "83  Asgard     Yaven      Green Flag     380989\n",
       "68  Asgard     Yaven     Santa María     111687\n",
       "53  Asgard     Yaven     Villa Wendy     646914\n",
       "38  Asgard     Yaven  Villa amarilla     274109\n",
       "\n",
       "[90 rows x 4 columns]"
      ]
     },
     "execution_count": 15,
     "metadata": {},
     "output_type": "execute_result"
    }
   ],
   "source": [
    "# Ordena la base alfabéticamente por estado y por municipio\n",
    "Asgard.sort_values(['Estado','Municipio'])"
   ]
  },
  {
   "cell_type": "code",
   "execution_count": 16,
   "metadata": {},
   "outputs": [
    {
     "name": "stdout",
     "output_type": "stream",
     "text": [
      "Hay un total de 15 estados\n",
      "Y un total de 59 municipios distintos\n"
     ]
    }
   ],
   "source": [
    "#Cuantos  estados  hay,  cuantos  municipios  hay  en  cada  estado  y  cuantos municipios hay en total.\n",
    "Cant_Estados=Asgard['Estado'].nunique()\n",
    "Cant_Municipios=Asgard['Municipio'].nunique()\n",
    "print(f'Hay un total de {Cant_Estados} estados')\n",
    "print(f'Y un total de {Cant_Municipios} municipios distintos')"
   ]
  },
  {
   "cell_type": "code",
   "execution_count": 17,
   "metadata": {},
   "outputs": [
    {
     "data": {
      "text/plain": [
       "Estado\n",
       "Alderaan     6\n",
       "Atlantis     6\n",
       "Endor        6\n",
       "Genosha      6\n",
       "Gotham       6\n",
       "Mandalore    6\n",
       "Mordor       6\n",
       "Mustafar     6\n",
       "Naboo        6\n",
       "Narnia       6\n",
       "Pandora      6\n",
       "Sokovia      6\n",
       "Tatooine     6\n",
       "Wakanda      6\n",
       "Yaven        6\n",
       "Name: Municipio, dtype: int64"
      ]
     },
     "execution_count": 17,
     "metadata": {},
     "output_type": "execute_result"
    }
   ],
   "source": [
    "Asgard.groupby('Estado')['Municipio'].agg('count')"
   ]
  },
  {
   "cell_type": "code",
   "execution_count": 18,
   "metadata": {},
   "outputs": [],
   "source": [
    "# Calcula la mediana de la población de los municipios, y clasifícalos, \n",
    "# aquellos por arriba de la mediana deben llamarse “muy poblados” y aquellos debajo de la mediana “poco poblados”\n",
    "Mediana=Asgard['Población'].median()"
   ]
  },
  {
   "cell_type": "code",
   "execution_count": 19,
   "metadata": {},
   "outputs": [
    {
     "data": {
      "text/plain": [
       "450052.0"
      ]
     },
     "execution_count": 19,
     "metadata": {},
     "output_type": "execute_result"
    }
   ],
   "source": [
    "Mediana"
   ]
  },
  {
   "cell_type": "code",
   "execution_count": 20,
   "metadata": {},
   "outputs": [],
   "source": [
    "Asgard['Clasificacion Poblacional']=np.where(Asgard['Población']>=Mediana,'Muy poblados','Poco poblados')"
   ]
  },
  {
   "cell_type": "code",
   "execution_count": 21,
   "metadata": {},
   "outputs": [
    {
     "data": {
      "text/html": [
       "<div>\n",
       "<style scoped>\n",
       "    .dataframe tbody tr th:only-of-type {\n",
       "        vertical-align: middle;\n",
       "    }\n",
       "\n",
       "    .dataframe tbody tr th {\n",
       "        vertical-align: top;\n",
       "    }\n",
       "\n",
       "    .dataframe thead th {\n",
       "        text-align: right;\n",
       "    }\n",
       "</style>\n",
       "<table border=\"1\" class=\"dataframe\">\n",
       "  <thead>\n",
       "    <tr style=\"text-align: right;\">\n",
       "      <th></th>\n",
       "      <th>País</th>\n",
       "      <th>Estado</th>\n",
       "      <th>Municipio</th>\n",
       "      <th>Población</th>\n",
       "      <th>Clasificacion Poblacional</th>\n",
       "    </tr>\n",
       "  </thead>\n",
       "  <tbody>\n",
       "    <tr>\n",
       "      <th>0</th>\n",
       "      <td>Asgard</td>\n",
       "      <td>Pandora</td>\n",
       "      <td>Reino Tierra</td>\n",
       "      <td>377896</td>\n",
       "      <td>Poco poblados</td>\n",
       "    </tr>\n",
       "    <tr>\n",
       "      <th>1</th>\n",
       "      <td>Asgard</td>\n",
       "      <td>Alderaan</td>\n",
       "      <td>Fuente Dorada</td>\n",
       "      <td>49984</td>\n",
       "      <td>Poco poblados</td>\n",
       "    </tr>\n",
       "    <tr>\n",
       "      <th>2</th>\n",
       "      <td>Asgard</td>\n",
       "      <td>Genosha</td>\n",
       "      <td>El Carmen</td>\n",
       "      <td>303918</td>\n",
       "      <td>Poco poblados</td>\n",
       "    </tr>\n",
       "    <tr>\n",
       "      <th>3</th>\n",
       "      <td>Asgard</td>\n",
       "      <td>Naboo</td>\n",
       "      <td>Omashu</td>\n",
       "      <td>265712</td>\n",
       "      <td>Poco poblados</td>\n",
       "    </tr>\n",
       "    <tr>\n",
       "      <th>4</th>\n",
       "      <td>Asgard</td>\n",
       "      <td>Mordor</td>\n",
       "      <td>Don Bosco</td>\n",
       "      <td>121151</td>\n",
       "      <td>Poco poblados</td>\n",
       "    </tr>\n",
       "    <tr>\n",
       "      <th>...</th>\n",
       "      <td>...</td>\n",
       "      <td>...</td>\n",
       "      <td>...</td>\n",
       "      <td>...</td>\n",
       "      <td>...</td>\n",
       "    </tr>\n",
       "    <tr>\n",
       "      <th>85</th>\n",
       "      <td>Asgard</td>\n",
       "      <td>Gotham</td>\n",
       "      <td>Mar violeta</td>\n",
       "      <td>44585</td>\n",
       "      <td>Poco poblados</td>\n",
       "    </tr>\n",
       "    <tr>\n",
       "      <th>86</th>\n",
       "      <td>Asgard</td>\n",
       "      <td>Mandalore</td>\n",
       "      <td>Mar amarillo</td>\n",
       "      <td>372369</td>\n",
       "      <td>Poco poblados</td>\n",
       "    </tr>\n",
       "    <tr>\n",
       "      <th>87</th>\n",
       "      <td>Asgard</td>\n",
       "      <td>Mustafar</td>\n",
       "      <td>Mar Azul</td>\n",
       "      <td>65044</td>\n",
       "      <td>Poco poblados</td>\n",
       "    </tr>\n",
       "    <tr>\n",
       "      <th>88</th>\n",
       "      <td>Asgard</td>\n",
       "      <td>Atlantis</td>\n",
       "      <td>Mar amarillo</td>\n",
       "      <td>961061</td>\n",
       "      <td>Muy poblados</td>\n",
       "    </tr>\n",
       "    <tr>\n",
       "      <th>89</th>\n",
       "      <td>Asgard</td>\n",
       "      <td>Narnia</td>\n",
       "      <td>Mar amarillo</td>\n",
       "      <td>443296</td>\n",
       "      <td>Poco poblados</td>\n",
       "    </tr>\n",
       "  </tbody>\n",
       "</table>\n",
       "<p>90 rows × 5 columns</p>\n",
       "</div>"
      ],
      "text/plain": [
       "      País     Estado      Municipio  Población Clasificacion Poblacional\n",
       "0   Asgard    Pandora   Reino Tierra     377896             Poco poblados\n",
       "1   Asgard   Alderaan  Fuente Dorada      49984             Poco poblados\n",
       "2   Asgard    Genosha      El Carmen     303918             Poco poblados\n",
       "3   Asgard      Naboo         Omashu     265712             Poco poblados\n",
       "4   Asgard     Mordor      Don Bosco     121151             Poco poblados\n",
       "..     ...        ...            ...        ...                       ...\n",
       "85  Asgard     Gotham    Mar violeta      44585             Poco poblados\n",
       "86  Asgard  Mandalore   Mar amarillo     372369             Poco poblados\n",
       "87  Asgard   Mustafar       Mar Azul      65044             Poco poblados\n",
       "88  Asgard   Atlantis   Mar amarillo     961061              Muy poblados\n",
       "89  Asgard     Narnia   Mar amarillo     443296             Poco poblados\n",
       "\n",
       "[90 rows x 5 columns]"
      ]
     },
     "execution_count": 21,
     "metadata": {},
     "output_type": "execute_result"
    }
   ],
   "source": [
    "Asgard"
   ]
  },
  {
   "cell_type": "code",
   "execution_count": 22,
   "metadata": {},
   "outputs": [
    {
     "data": {
      "text/html": [
       "<div>\n",
       "<style scoped>\n",
       "    .dataframe tbody tr th:only-of-type {\n",
       "        vertical-align: middle;\n",
       "    }\n",
       "\n",
       "    .dataframe tbody tr th {\n",
       "        vertical-align: top;\n",
       "    }\n",
       "\n",
       "    .dataframe thead th {\n",
       "        text-align: right;\n",
       "    }\n",
       "</style>\n",
       "<table border=\"1\" class=\"dataframe\">\n",
       "  <thead>\n",
       "    <tr style=\"text-align: right;\">\n",
       "      <th></th>\n",
       "      <th>País</th>\n",
       "      <th>Estado</th>\n",
       "      <th>Municipio</th>\n",
       "      <th>Población</th>\n",
       "    </tr>\n",
       "  </thead>\n",
       "  <tbody>\n",
       "    <tr>\n",
       "      <th>34</th>\n",
       "      <td>Asgard</td>\n",
       "      <td>Mordor</td>\n",
       "      <td>Madripur</td>\n",
       "      <td>998079</td>\n",
       "    </tr>\n",
       "    <tr>\n",
       "      <th>27</th>\n",
       "      <td>Asgard</td>\n",
       "      <td>Mustafar</td>\n",
       "      <td>Villa Norte</td>\n",
       "      <td>997107</td>\n",
       "    </tr>\n",
       "    <tr>\n",
       "      <th>6</th>\n",
       "      <td>Asgard</td>\n",
       "      <td>Sokovia</td>\n",
       "      <td>La Unión</td>\n",
       "      <td>986067</td>\n",
       "    </tr>\n",
       "    <tr>\n",
       "      <th>74</th>\n",
       "      <td>Asgard</td>\n",
       "      <td>Narnia</td>\n",
       "      <td>Gral Escobedo</td>\n",
       "      <td>974548</td>\n",
       "    </tr>\n",
       "    <tr>\n",
       "      <th>79</th>\n",
       "      <td>Asgard</td>\n",
       "      <td>Mordor</td>\n",
       "      <td>Yellow town</td>\n",
       "      <td>974324</td>\n",
       "    </tr>\n",
       "  </tbody>\n",
       "</table>\n",
       "</div>"
      ],
      "text/plain": [
       "      País    Estado      Municipio  Población\n",
       "34  Asgard    Mordor       Madripur     998079\n",
       "27  Asgard  Mustafar    Villa Norte     997107\n",
       "6   Asgard   Sokovia       La Unión     986067\n",
       "74  Asgard    Narnia  Gral Escobedo     974548\n",
       "79  Asgard    Mordor    Yellow town     974324"
      ]
     },
     "execution_count": 22,
     "metadata": {},
     "output_type": "execute_result"
    }
   ],
   "source": [
    "# Encuentra  los  5  municipios  mas  poblados  y  los  cinco  municipios  menos poblados del país\n",
    "Asgard.sort_values('Población',ascending=False).head(5)[['País','Estado','Municipio','Población']]"
   ]
  },
  {
   "cell_type": "code",
   "execution_count": 23,
   "metadata": {},
   "outputs": [
    {
     "data": {
      "text/html": [
       "<div>\n",
       "<style scoped>\n",
       "    .dataframe tbody tr th:only-of-type {\n",
       "        vertical-align: middle;\n",
       "    }\n",
       "\n",
       "    .dataframe tbody tr th {\n",
       "        vertical-align: top;\n",
       "    }\n",
       "\n",
       "    .dataframe thead th {\n",
       "        text-align: right;\n",
       "    }\n",
       "</style>\n",
       "<table border=\"1\" class=\"dataframe\">\n",
       "  <thead>\n",
       "    <tr style=\"text-align: right;\">\n",
       "      <th></th>\n",
       "      <th>País</th>\n",
       "      <th>Estado</th>\n",
       "      <th>Municipio</th>\n",
       "      <th>Población</th>\n",
       "    </tr>\n",
       "  </thead>\n",
       "  <tbody>\n",
       "    <tr>\n",
       "      <th>17</th>\n",
       "      <td>Asgard</td>\n",
       "      <td>Genosha</td>\n",
       "      <td>Ciudad Jedi</td>\n",
       "      <td>13666</td>\n",
       "    </tr>\n",
       "    <tr>\n",
       "      <th>14</th>\n",
       "      <td>Asgard</td>\n",
       "      <td>Narnia</td>\n",
       "      <td>Luz roja</td>\n",
       "      <td>14986</td>\n",
       "    </tr>\n",
       "    <tr>\n",
       "      <th>39</th>\n",
       "      <td>Asgard</td>\n",
       "      <td>Endor</td>\n",
       "      <td>Villa rosa</td>\n",
       "      <td>25538</td>\n",
       "    </tr>\n",
       "    <tr>\n",
       "      <th>26</th>\n",
       "      <td>Asgard</td>\n",
       "      <td>Mandalore</td>\n",
       "      <td>Shelbyville</td>\n",
       "      <td>31535</td>\n",
       "    </tr>\n",
       "    <tr>\n",
       "      <th>85</th>\n",
       "      <td>Asgard</td>\n",
       "      <td>Gotham</td>\n",
       "      <td>Mar violeta</td>\n",
       "      <td>44585</td>\n",
       "    </tr>\n",
       "  </tbody>\n",
       "</table>\n",
       "</div>"
      ],
      "text/plain": [
       "      País     Estado    Municipio  Población\n",
       "17  Asgard    Genosha  Ciudad Jedi      13666\n",
       "14  Asgard     Narnia     Luz roja      14986\n",
       "39  Asgard      Endor   Villa rosa      25538\n",
       "26  Asgard  Mandalore  Shelbyville      31535\n",
       "85  Asgard     Gotham  Mar violeta      44585"
      ]
     },
     "execution_count": 23,
     "metadata": {},
     "output_type": "execute_result"
    }
   ],
   "source": [
    "Asgard.sort_values('Población',ascending=True).head(5)[['País','Estado','Municipio','Población']]"
   ]
  },
  {
   "cell_type": "code",
   "execution_count": 24,
   "metadata": {},
   "outputs": [],
   "source": [
    "# El municipio más poblado de cada estado\n",
    "Max_Pob=Asgard.groupby('Estado')['Población'].idxmax()"
   ]
  },
  {
   "cell_type": "code",
   "execution_count": 25,
   "metadata": {},
   "outputs": [
    {
     "data": {
      "text/html": [
       "<div>\n",
       "<style scoped>\n",
       "    .dataframe tbody tr th:only-of-type {\n",
       "        vertical-align: middle;\n",
       "    }\n",
       "\n",
       "    .dataframe tbody tr th {\n",
       "        vertical-align: top;\n",
       "    }\n",
       "\n",
       "    .dataframe thead th {\n",
       "        text-align: right;\n",
       "    }\n",
       "</style>\n",
       "<table border=\"1\" class=\"dataframe\">\n",
       "  <thead>\n",
       "    <tr style=\"text-align: right;\">\n",
       "      <th></th>\n",
       "      <th>País</th>\n",
       "      <th>Estado</th>\n",
       "      <th>Municipio</th>\n",
       "      <th>Población</th>\n",
       "      <th>Clasificacion Poblacional</th>\n",
       "    </tr>\n",
       "  </thead>\n",
       "  <tbody>\n",
       "    <tr>\n",
       "      <th>31</th>\n",
       "      <td>Asgard</td>\n",
       "      <td>Alderaan</td>\n",
       "      <td>Luz azul</td>\n",
       "      <td>914910</td>\n",
       "      <td>Muy poblados</td>\n",
       "    </tr>\n",
       "    <tr>\n",
       "      <th>88</th>\n",
       "      <td>Asgard</td>\n",
       "      <td>Atlantis</td>\n",
       "      <td>Mar amarillo</td>\n",
       "      <td>961061</td>\n",
       "      <td>Muy poblados</td>\n",
       "    </tr>\n",
       "    <tr>\n",
       "      <th>69</th>\n",
       "      <td>Asgard</td>\n",
       "      <td>Endor</td>\n",
       "      <td>Santa María</td>\n",
       "      <td>875371</td>\n",
       "      <td>Muy poblados</td>\n",
       "    </tr>\n",
       "    <tr>\n",
       "      <th>32</th>\n",
       "      <td>Asgard</td>\n",
       "      <td>Genosha</td>\n",
       "      <td>Villa Lannister</td>\n",
       "      <td>822654</td>\n",
       "      <td>Muy poblados</td>\n",
       "    </tr>\n",
       "    <tr>\n",
       "      <th>55</th>\n",
       "      <td>Asgard</td>\n",
       "      <td>Gotham</td>\n",
       "      <td>Playa Verde</td>\n",
       "      <td>918710</td>\n",
       "      <td>Muy poblados</td>\n",
       "    </tr>\n",
       "    <tr>\n",
       "      <th>71</th>\n",
       "      <td>Asgard</td>\n",
       "      <td>Mandalore</td>\n",
       "      <td>San Pedro</td>\n",
       "      <td>736716</td>\n",
       "      <td>Muy poblados</td>\n",
       "    </tr>\n",
       "    <tr>\n",
       "      <th>34</th>\n",
       "      <td>Asgard</td>\n",
       "      <td>Mordor</td>\n",
       "      <td>Madripur</td>\n",
       "      <td>998079</td>\n",
       "      <td>Muy poblados</td>\n",
       "    </tr>\n",
       "    <tr>\n",
       "      <th>27</th>\n",
       "      <td>Asgard</td>\n",
       "      <td>Mustafar</td>\n",
       "      <td>Villa Norte</td>\n",
       "      <td>997107</td>\n",
       "      <td>Muy poblados</td>\n",
       "    </tr>\n",
       "    <tr>\n",
       "      <th>33</th>\n",
       "      <td>Asgard</td>\n",
       "      <td>Naboo</td>\n",
       "      <td>Luz azul</td>\n",
       "      <td>602661</td>\n",
       "      <td>Muy poblados</td>\n",
       "    </tr>\n",
       "    <tr>\n",
       "      <th>74</th>\n",
       "      <td>Asgard</td>\n",
       "      <td>Narnia</td>\n",
       "      <td>Gral Escobedo</td>\n",
       "      <td>974548</td>\n",
       "      <td>Muy poblados</td>\n",
       "    </tr>\n",
       "    <tr>\n",
       "      <th>60</th>\n",
       "      <td>Asgard</td>\n",
       "      <td>Pandora</td>\n",
       "      <td>Villa Demogorgon</td>\n",
       "      <td>969140</td>\n",
       "      <td>Muy poblados</td>\n",
       "    </tr>\n",
       "    <tr>\n",
       "      <th>6</th>\n",
       "      <td>Asgard</td>\n",
       "      <td>Sokovia</td>\n",
       "      <td>La Unión</td>\n",
       "      <td>986067</td>\n",
       "      <td>Muy poblados</td>\n",
       "    </tr>\n",
       "    <tr>\n",
       "      <th>50</th>\n",
       "      <td>Asgard</td>\n",
       "      <td>Tatooine</td>\n",
       "      <td>Villa Marlon</td>\n",
       "      <td>925414</td>\n",
       "      <td>Muy poblados</td>\n",
       "    </tr>\n",
       "    <tr>\n",
       "      <th>82</th>\n",
       "      <td>Asgard</td>\n",
       "      <td>Wakanda</td>\n",
       "      <td>Redgreen</td>\n",
       "      <td>880858</td>\n",
       "      <td>Muy poblados</td>\n",
       "    </tr>\n",
       "    <tr>\n",
       "      <th>23</th>\n",
       "      <td>Asgard</td>\n",
       "      <td>Yaven</td>\n",
       "      <td>Amanecer</td>\n",
       "      <td>708611</td>\n",
       "      <td>Muy poblados</td>\n",
       "    </tr>\n",
       "  </tbody>\n",
       "</table>\n",
       "</div>"
      ],
      "text/plain": [
       "      País     Estado         Municipio  Población Clasificacion Poblacional\n",
       "31  Asgard   Alderaan          Luz azul     914910              Muy poblados\n",
       "88  Asgard   Atlantis      Mar amarillo     961061              Muy poblados\n",
       "69  Asgard      Endor       Santa María     875371              Muy poblados\n",
       "32  Asgard    Genosha   Villa Lannister     822654              Muy poblados\n",
       "55  Asgard     Gotham       Playa Verde     918710              Muy poblados\n",
       "71  Asgard  Mandalore         San Pedro     736716              Muy poblados\n",
       "34  Asgard     Mordor          Madripur     998079              Muy poblados\n",
       "27  Asgard   Mustafar       Villa Norte     997107              Muy poblados\n",
       "33  Asgard      Naboo          Luz azul     602661              Muy poblados\n",
       "74  Asgard     Narnia     Gral Escobedo     974548              Muy poblados\n",
       "60  Asgard    Pandora  Villa Demogorgon     969140              Muy poblados\n",
       "6   Asgard    Sokovia          La Unión     986067              Muy poblados\n",
       "50  Asgard   Tatooine      Villa Marlon     925414              Muy poblados\n",
       "82  Asgard    Wakanda          Redgreen     880858              Muy poblados\n",
       "23  Asgard      Yaven          Amanecer     708611              Muy poblados"
      ]
     },
     "execution_count": 25,
     "metadata": {},
     "output_type": "execute_result"
    }
   ],
   "source": [
    "Asgard.loc[Max_Pob]"
   ]
  },
  {
   "cell_type": "markdown",
   "metadata": {},
   "source": [
    "### Gráficos"
   ]
  },
  {
   "cell_type": "code",
   "execution_count": 26,
   "metadata": {},
   "outputs": [],
   "source": [
    "# a)Los 15 municipios más poblados de Asgard\n",
    "Max_Pob_Mun=Asgard.groupby('Municipio')['Población'].max()"
   ]
  },
  {
   "cell_type": "code",
   "execution_count": 27,
   "metadata": {},
   "outputs": [],
   "source": [
    "Max_Pob_Mun=Max_Pob_Mun.sort_values(ascending=False)\n",
    "Max_Pob_Mun=Max_Pob_Mun.iloc[0:15]"
   ]
  },
  {
   "cell_type": "code",
   "execution_count": 41,
   "metadata": {},
   "outputs": [],
   "source": [
    "Max_Pob_Mun=pd.DataFrame(Max_Pob_Mun)"
   ]
  },
  {
   "cell_type": "code",
   "execution_count": 40,
   "metadata": {},
   "outputs": [
    {
     "data": {
      "image/png": "[encoded data removed]",
      "text/plain": [
       "<Figure size 640x480 with 1 Axes>"
      ]
     },
     "metadata": {},
     "output_type": "display_data"
    }
   ],
   "source": [
    "Max_Pob_Mun.plot.bar()\n",
    "plt.title('Municipios más poblados')\n",
    "plt.xlabel('Municipios')\n",
    "plt.ylabel('Población')\n",
    "max_Y=max(Max_Pob_Mun['Población'])+1000\n",
    "min_Y=0\n",
    "plt.ylim(min_Y,max_Y)\n",
    "plt.show()"
   ]
  },
  {
   "cell_type": "code",
   "execution_count": 29,
   "metadata": {},
   "outputs": [],
   "source": [
    "# b)Cuantas peliculas hay de cada género\n",
    "Peliculas_Por_Genero=Peliculas.value_counts('category').sort_values(ascending=False)"
   ]
  },
  {
   "cell_type": "code",
   "execution_count": 30,
   "metadata": {},
   "outputs": [
    {
     "data": {
      "image/png": "[encoded data removed]",
      "text/plain": [
       "<Figure size 640x480 with 1 Axes>"
      ]
     },
     "metadata": {},
     "output_type": "display_data"
    }
   ],
   "source": [
    "Peliculas_Por_Genero.plot.bar()\n",
    "plt.title('Peliculas por genero')\n",
    "plt.xlabel('Género')\n",
    "plt.ylabel('Cantidad')\n",
    "plt.show()"
   ]
  }
 ],
 "metadata": {
  "kernelspec": {
   "display_name": "Python 3",
   "language": "python",
   "name": "python3"
  },
  "language_info": {
   "codemirror_mode": {
    "name": "ipython",
    "version": 3
   },
   "file_extension": ".py",
   "mimetype": "text/x-python",
   "name": "python",
   "nbconvert_exporter": "python",
   "pygments_lexer": "ipython3",
   "version": "3.11.4"
  },
  "orig_nbformat": 4
 },
 "nbformat": 4,
 "nbformat_minor": 2
}
