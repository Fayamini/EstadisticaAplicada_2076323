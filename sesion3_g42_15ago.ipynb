{
 "cells": [
  {
   "cell_type": "markdown",
   "metadata": {},
   "source": [
    "## Estadística Aplicada\n",
    "Sesión 3 - 15 agosto\n",
    "\n",
    "Joel Fayam Rivera Peña 2076323\n",
    "\n",
    "Grupo 42"
   ]
  },
  {
   "cell_type": "markdown",
   "metadata": {},
   "source": [
    "## Tuplas\n",
    "\n",
    "Es una colección de objetos inmutable (no se puede cambiar)"
   ]
  },
  {
   "cell_type": "code",
   "execution_count": 1,
   "metadata": {},
   "outputs": [],
   "source": [
    "tupla_alumno=('Juan','Perez',17)"
   ]
  },
  {
   "cell_type": "code",
   "execution_count": 2,
   "metadata": {},
   "outputs": [
    {
     "data": {
      "text/plain": [
       "tuple"
      ]
     },
     "execution_count": 2,
     "metadata": {},
     "output_type": "execute_result"
    }
   ],
   "source": [
    "type(tupla_alumno)"
   ]
  },
  {
   "cell_type": "code",
   "execution_count": 3,
   "metadata": {},
   "outputs": [
    {
     "ename": "AttributeError",
     "evalue": "'tuple' object has no attribute 'remove'",
     "output_type": "error",
     "traceback": [
      "\u001b[1;31m---------------------------------------------------------------------------\u001b[0m",
      "\u001b[1;31mAttributeError\u001b[0m                            Traceback (most recent call last)",
      "Cell \u001b[1;32mIn[3], line 1\u001b[0m\n\u001b[1;32m----> 1\u001b[0m tupla_alumno\u001b[39m.\u001b[39;49mremove(\u001b[39m'\u001b[39m\u001b[39mJuan\u001b[39m\u001b[39m'\u001b[39m)\n",
      "\u001b[1;31mAttributeError\u001b[0m: 'tuple' object has no attribute 'remove'"
     ]
    }
   ],
   "source": [
    "#Si tratamos de añadir o remover un objeto a una Tupla nos dará error debido a que es inmutable\n",
    "tupla_alumno.remove('Juan')"
   ]
  },
  {
   "cell_type": "markdown",
   "metadata": {},
   "source": [
    "## Diccionarios (mapeo de valores)\n",
    "\n",
    "clave(variable) - valor"
   ]
  },
  {
   "cell_type": "code",
   "execution_count": 6,
   "metadata": {},
   "outputs": [],
   "source": [
    "dic1_alumno={'Nombre':'Juan','Apellido':'Perez'}\n",
    "#Clave-Nombre    Valor-Juan"
   ]
  },
  {
   "cell_type": "code",
   "execution_count": 5,
   "metadata": {},
   "outputs": [
    {
     "data": {
      "text/plain": [
       "dict"
      ]
     },
     "execution_count": 5,
     "metadata": {},
     "output_type": "execute_result"
    }
   ],
   "source": [
    "type(dic1_alumno)"
   ]
  },
  {
   "cell_type": "code",
   "execution_count": 8,
   "metadata": {},
   "outputs": [],
   "source": [
    "dic_grupo={'Nombre':['Jime','Raúl','Ana'],'Edad':[17,21,15]}"
   ]
  },
  {
   "cell_type": "code",
   "execution_count": 9,
   "metadata": {},
   "outputs": [
    {
     "data": {
      "text/plain": [
       "['Jime', 'Raúl', 'Ana']"
      ]
     },
     "execution_count": 9,
     "metadata": {},
     "output_type": "execute_result"
    }
   ],
   "source": [
    "dic_grupo['Nombre']"
   ]
  },
  {
   "cell_type": "code",
   "execution_count": 11,
   "metadata": {},
   "outputs": [
    {
     "data": {
      "text/plain": [
       "dict_keys(['Nombre', 'Edad'])"
      ]
     },
     "execution_count": 11,
     "metadata": {},
     "output_type": "execute_result"
    }
   ],
   "source": [
    "#Observar las claves del diccionario\n",
    "dic_grupo.keys()"
   ]
  },
  {
   "cell_type": "code",
   "execution_count": 14,
   "metadata": {},
   "outputs": [
    {
     "data": {
      "text/plain": [
       "dict_values([['Jime', 'Raúl', 'Ana'], [17, 21, 15]])"
      ]
     },
     "execution_count": 14,
     "metadata": {},
     "output_type": "execute_result"
    }
   ],
   "source": [
    "#Observar los valores del diccionario\n",
    "dic_grupo.values()"
   ]
  },
  {
   "cell_type": "markdown",
   "metadata": {},
   "source": [
    "## Pandas\n",
    "\n",
    "Nos sirve para manejar datos estructurados, está construido con base a *Numpy* por lo que todas las funciones de *Numpy* son accesibles desde Pandas.\n",
    "\n",
    "**Pandas** tiene tres estructuras básicas:\n",
    "1. *Series* (unidimensionales)\n",
    "2. *Dataframes* (filas y columnas)\n",
    "3. *Panel* (tiempo)"
   ]
  },
  {
   "cell_type": "code",
   "execution_count": 15,
   "metadata": {},
   "outputs": [],
   "source": [
    "import pandas as pd"
   ]
  },
  {
   "cell_type": "markdown",
   "metadata": {},
   "source": [
    "Suponer que conocemos la edad de las siguientes personas: Pedro 12, Juan 17, Jime 21, Rosa 22"
   ]
  },
  {
   "cell_type": "code",
   "execution_count": 16,
   "metadata": {},
   "outputs": [],
   "source": [
    "edades=[12,17,21,22]"
   ]
  },
  {
   "cell_type": "code",
   "execution_count": 20,
   "metadata": {},
   "outputs": [
    {
     "data": {
      "text/plain": [
       "[12, 17, 21, 22]"
      ]
     },
     "execution_count": 20,
     "metadata": {},
     "output_type": "execute_result"
    }
   ],
   "source": [
    "edades"
   ]
  },
  {
   "cell_type": "code",
   "execution_count": 22,
   "metadata": {},
   "outputs": [],
   "source": [
    "#La ventaja de una serie es que nos permite etiquetar los valores\n",
    "\n",
    "serie_edades=pd.Series(edades,index=['Pedro','Juan','Jime','Rosa'])"
   ]
  },
  {
   "cell_type": "code",
   "execution_count": 23,
   "metadata": {},
   "outputs": [
    {
     "data": {
      "text/plain": [
       "pandas.core.series.Series"
      ]
     },
     "execution_count": 23,
     "metadata": {},
     "output_type": "execute_result"
    }
   ],
   "source": [
    "type(serie_edades)"
   ]
  },
  {
   "cell_type": "code",
   "execution_count": 24,
   "metadata": {},
   "outputs": [
    {
     "data": {
      "text/plain": [
       "Pedro    12\n",
       "Juan     17\n",
       "Jime     21\n",
       "Rosa     22\n",
       "dtype: int64"
      ]
     },
     "execution_count": 24,
     "metadata": {},
     "output_type": "execute_result"
    }
   ],
   "source": [
    "serie_edades"
   ]
  },
  {
   "cell_type": "code",
   "execution_count": 26,
   "metadata": {},
   "outputs": [
    {
     "data": {
      "text/plain": [
       "18.0"
      ]
     },
     "execution_count": 26,
     "metadata": {},
     "output_type": "execute_result"
    }
   ],
   "source": [
    "serie_edades.mean()"
   ]
  },
  {
   "cell_type": "code",
   "execution_count": 27,
   "metadata": {},
   "outputs": [
    {
     "data": {
      "text/plain": [
       "19.0"
      ]
     },
     "execution_count": 27,
     "metadata": {},
     "output_type": "execute_result"
    }
   ],
   "source": [
    "serie_edades.median()"
   ]
  },
  {
   "cell_type": "markdown",
   "metadata": {},
   "source": [
    "## Dataframe\n",
    "\n",
    "Datos en filas y en columnas"
   ]
  },
  {
   "cell_type": "code",
   "execution_count": 28,
   "metadata": {},
   "outputs": [],
   "source": [
    "alumno1=['Juan','Perez',23]\n",
    "alumno2=['Raúl','González',17]\n",
    "alumno3=['Jimena','Rosas',20]\n",
    "alumno4=['Alejandra','Saldaña',21]"
   ]
  },
  {
   "cell_type": "code",
   "execution_count": 29,
   "metadata": {},
   "outputs": [],
   "source": [
    "grupo_estadistica=[alumno1,alumno2,alumno3,alumno4]"
   ]
  },
  {
   "cell_type": "code",
   "execution_count": 30,
   "metadata": {},
   "outputs": [
    {
     "data": {
      "text/plain": [
       "[['Juan', 'Perez', 23],\n",
       " ['Raúl', 'González', 17],\n",
       " ['Jimena', 'Rosas', 20],\n",
       " ['Alejandra', 'Saldaña', 21]]"
      ]
     },
     "execution_count": 30,
     "metadata": {},
     "output_type": "execute_result"
    }
   ],
   "source": [
    "grupo_estadistica"
   ]
  },
  {
   "cell_type": "code",
   "execution_count": 32,
   "metadata": {},
   "outputs": [],
   "source": [
    "df_clase=pd.DataFrame(grupo_estadistica,columns=['Nombre','Apellido','Edad'])"
   ]
  },
  {
   "cell_type": "code",
   "execution_count": 35,
   "metadata": {},
   "outputs": [
    {
     "data": {
      "text/plain": [
       "pandas.core.frame.DataFrame"
      ]
     },
     "execution_count": 35,
     "metadata": {},
     "output_type": "execute_result"
    }
   ],
   "source": [
    "type(df_clase)"
   ]
  },
  {
   "cell_type": "code",
   "execution_count": 36,
   "metadata": {},
   "outputs": [
    {
     "data": {
      "text/html": [
       "<div>\n",
       "<style scoped>\n",
       "    .dataframe tbody tr th:only-of-type {\n",
       "        vertical-align: middle;\n",
       "    }\n",
       "\n",
       "    .dataframe tbody tr th {\n",
       "        vertical-align: top;\n",
       "    }\n",
       "\n",
       "    .dataframe thead th {\n",
       "        text-align: right;\n",
       "    }\n",
       "</style>\n",
       "<table border=\"1\" class=\"dataframe\">\n",
       "  <thead>\n",
       "    <tr style=\"text-align: right;\">\n",
       "      <th></th>\n",
       "      <th>Nombre</th>\n",
       "      <th>Apellido</th>\n",
       "      <th>Edad</th>\n",
       "    </tr>\n",
       "  </thead>\n",
       "  <tbody>\n",
       "    <tr>\n",
       "      <th>0</th>\n",
       "      <td>Juan</td>\n",
       "      <td>Perez</td>\n",
       "      <td>23</td>\n",
       "    </tr>\n",
       "    <tr>\n",
       "      <th>1</th>\n",
       "      <td>Raúl</td>\n",
       "      <td>González</td>\n",
       "      <td>17</td>\n",
       "    </tr>\n",
       "    <tr>\n",
       "      <th>2</th>\n",
       "      <td>Jimena</td>\n",
       "      <td>Rosas</td>\n",
       "      <td>20</td>\n",
       "    </tr>\n",
       "    <tr>\n",
       "      <th>3</th>\n",
       "      <td>Alejandra</td>\n",
       "      <td>Saldaña</td>\n",
       "      <td>21</td>\n",
       "    </tr>\n",
       "  </tbody>\n",
       "</table>\n",
       "</div>"
      ],
      "text/plain": [
       "      Nombre  Apellido  Edad\n",
       "0       Juan     Perez    23\n",
       "1       Raúl  González    17\n",
       "2     Jimena     Rosas    20\n",
       "3  Alejandra   Saldaña    21"
      ]
     },
     "execution_count": 36,
     "metadata": {},
     "output_type": "execute_result"
    }
   ],
   "source": [
    "df_clase"
   ]
  },
  {
   "cell_type": "code",
   "execution_count": 37,
   "metadata": {},
   "outputs": [
    {
     "data": {
      "text/plain": [
       "Index(['Nombre', 'Apellido', 'Edad'], dtype='object')"
      ]
     },
     "execution_count": 37,
     "metadata": {},
     "output_type": "execute_result"
    }
   ],
   "source": [
    "df_clase.columns"
   ]
  },
  {
   "cell_type": "code",
   "execution_count": 38,
   "metadata": {},
   "outputs": [
    {
     "data": {
      "text/plain": [
       "RangeIndex(start=0, stop=4, step=1)"
      ]
     },
     "execution_count": 38,
     "metadata": {},
     "output_type": "execute_result"
    }
   ],
   "source": [
    "df_clase.index"
   ]
  },
  {
   "cell_type": "code",
   "execution_count": 39,
   "metadata": {},
   "outputs": [],
   "source": [
    "df_clase['Municipio']=['Monterrey','Escobedo','Apodaca','Santiago']"
   ]
  },
  {
   "cell_type": "code",
   "execution_count": 40,
   "metadata": {},
   "outputs": [
    {
     "data": {
      "text/html": [
       "<div>\n",
       "<style scoped>\n",
       "    .dataframe tbody tr th:only-of-type {\n",
       "        vertical-align: middle;\n",
       "    }\n",
       "\n",
       "    .dataframe tbody tr th {\n",
       "        vertical-align: top;\n",
       "    }\n",
       "\n",
       "    .dataframe thead th {\n",
       "        text-align: right;\n",
       "    }\n",
       "</style>\n",
       "<table border=\"1\" class=\"dataframe\">\n",
       "  <thead>\n",
       "    <tr style=\"text-align: right;\">\n",
       "      <th></th>\n",
       "      <th>Nombre</th>\n",
       "      <th>Apellido</th>\n",
       "      <th>Edad</th>\n",
       "      <th>Municipio</th>\n",
       "    </tr>\n",
       "  </thead>\n",
       "  <tbody>\n",
       "    <tr>\n",
       "      <th>0</th>\n",
       "      <td>Juan</td>\n",
       "      <td>Perez</td>\n",
       "      <td>23</td>\n",
       "      <td>Monterrey</td>\n",
       "    </tr>\n",
       "    <tr>\n",
       "      <th>1</th>\n",
       "      <td>Raúl</td>\n",
       "      <td>González</td>\n",
       "      <td>17</td>\n",
       "      <td>Escobedo</td>\n",
       "    </tr>\n",
       "    <tr>\n",
       "      <th>2</th>\n",
       "      <td>Jimena</td>\n",
       "      <td>Rosas</td>\n",
       "      <td>20</td>\n",
       "      <td>Apodaca</td>\n",
       "    </tr>\n",
       "    <tr>\n",
       "      <th>3</th>\n",
       "      <td>Alejandra</td>\n",
       "      <td>Saldaña</td>\n",
       "      <td>21</td>\n",
       "      <td>Santiago</td>\n",
       "    </tr>\n",
       "  </tbody>\n",
       "</table>\n",
       "</div>"
      ],
      "text/plain": [
       "      Nombre  Apellido  Edad  Municipio\n",
       "0       Juan     Perez    23  Monterrey\n",
       "1       Raúl  González    17   Escobedo\n",
       "2     Jimena     Rosas    20    Apodaca\n",
       "3  Alejandra   Saldaña    21   Santiago"
      ]
     },
     "execution_count": 40,
     "metadata": {},
     "output_type": "execute_result"
    }
   ],
   "source": [
    "df_clase"
   ]
  },
  {
   "cell_type": "code",
   "execution_count": 41,
   "metadata": {},
   "outputs": [],
   "source": [
    "df_clase['Edad en Días']=df_clase['Edad']*365"
   ]
  },
  {
   "cell_type": "code",
   "execution_count": 42,
   "metadata": {},
   "outputs": [
    {
     "data": {
      "text/html": [
       "<div>\n",
       "<style scoped>\n",
       "    .dataframe tbody tr th:only-of-type {\n",
       "        vertical-align: middle;\n",
       "    }\n",
       "\n",
       "    .dataframe tbody tr th {\n",
       "        vertical-align: top;\n",
       "    }\n",
       "\n",
       "    .dataframe thead th {\n",
       "        text-align: right;\n",
       "    }\n",
       "</style>\n",
       "<table border=\"1\" class=\"dataframe\">\n",
       "  <thead>\n",
       "    <tr style=\"text-align: right;\">\n",
       "      <th></th>\n",
       "      <th>Nombre</th>\n",
       "      <th>Apellido</th>\n",
       "      <th>Edad</th>\n",
       "      <th>Municipio</th>\n",
       "      <th>Edad en Días</th>\n",
       "    </tr>\n",
       "  </thead>\n",
       "  <tbody>\n",
       "    <tr>\n",
       "      <th>0</th>\n",
       "      <td>Juan</td>\n",
       "      <td>Perez</td>\n",
       "      <td>23</td>\n",
       "      <td>Monterrey</td>\n",
       "      <td>8395</td>\n",
       "    </tr>\n",
       "    <tr>\n",
       "      <th>1</th>\n",
       "      <td>Raúl</td>\n",
       "      <td>González</td>\n",
       "      <td>17</td>\n",
       "      <td>Escobedo</td>\n",
       "      <td>6205</td>\n",
       "    </tr>\n",
       "    <tr>\n",
       "      <th>2</th>\n",
       "      <td>Jimena</td>\n",
       "      <td>Rosas</td>\n",
       "      <td>20</td>\n",
       "      <td>Apodaca</td>\n",
       "      <td>7300</td>\n",
       "    </tr>\n",
       "    <tr>\n",
       "      <th>3</th>\n",
       "      <td>Alejandra</td>\n",
       "      <td>Saldaña</td>\n",
       "      <td>21</td>\n",
       "      <td>Santiago</td>\n",
       "      <td>7665</td>\n",
       "    </tr>\n",
       "  </tbody>\n",
       "</table>\n",
       "</div>"
      ],
      "text/plain": [
       "      Nombre  Apellido  Edad  Municipio  Edad en Días\n",
       "0       Juan     Perez    23  Monterrey          8395\n",
       "1       Raúl  González    17   Escobedo          6205\n",
       "2     Jimena     Rosas    20    Apodaca          7300\n",
       "3  Alejandra   Saldaña    21   Santiago          7665"
      ]
     },
     "execution_count": 42,
     "metadata": {},
     "output_type": "execute_result"
    }
   ],
   "source": [
    "df_clase"
   ]
  },
  {
   "cell_type": "markdown",
   "metadata": {},
   "source": [
    "## Seleccionar elementos de un dataframe\n",
    "\n",
    "1. *Seleccion Estándar*\n",
    "2. *Selección por .iloc*\n",
    "3. *Selección por .loc*\n",
    "4. *Selección condicional*"
   ]
  },
  {
   "cell_type": "markdown",
   "metadata": {},
   "source": [
    "### Selección Estándar ###"
   ]
  },
  {
   "cell_type": "code",
   "execution_count": 44,
   "metadata": {},
   "outputs": [
    {
     "data": {
      "text/plain": [
       "0    23\n",
       "1    17\n",
       "2    20\n",
       "3    21\n",
       "Name: Edad, dtype: int64"
      ]
     },
     "execution_count": 44,
     "metadata": {},
     "output_type": "execute_result"
    }
   ],
   "source": [
    "# Selección Estándar\n",
    "df_clase['Edad']"
   ]
  },
  {
   "cell_type": "code",
   "execution_count": 48,
   "metadata": {},
   "outputs": [
    {
     "data": {
      "text/html": [
       "<div>\n",
       "<style scoped>\n",
       "    .dataframe tbody tr th:only-of-type {\n",
       "        vertical-align: middle;\n",
       "    }\n",
       "\n",
       "    .dataframe tbody tr th {\n",
       "        vertical-align: top;\n",
       "    }\n",
       "\n",
       "    .dataframe thead th {\n",
       "        text-align: right;\n",
       "    }\n",
       "</style>\n",
       "<table border=\"1\" class=\"dataframe\">\n",
       "  <thead>\n",
       "    <tr style=\"text-align: right;\">\n",
       "      <th></th>\n",
       "      <th>Edad</th>\n",
       "      <th>Nombre</th>\n",
       "    </tr>\n",
       "  </thead>\n",
       "  <tbody>\n",
       "    <tr>\n",
       "      <th>0</th>\n",
       "      <td>23</td>\n",
       "      <td>Juan</td>\n",
       "    </tr>\n",
       "    <tr>\n",
       "      <th>1</th>\n",
       "      <td>17</td>\n",
       "      <td>Raúl</td>\n",
       "    </tr>\n",
       "    <tr>\n",
       "      <th>2</th>\n",
       "      <td>20</td>\n",
       "      <td>Jimena</td>\n",
       "    </tr>\n",
       "    <tr>\n",
       "      <th>3</th>\n",
       "      <td>21</td>\n",
       "      <td>Alejandra</td>\n",
       "    </tr>\n",
       "  </tbody>\n",
       "</table>\n",
       "</div>"
      ],
      "text/plain": [
       "   Edad     Nombre\n",
       "0    23       Juan\n",
       "1    17       Raúl\n",
       "2    20     Jimena\n",
       "3    21  Alejandra"
      ]
     },
     "execution_count": 48,
     "metadata": {},
     "output_type": "execute_result"
    }
   ],
   "source": [
    "df_clase[['Edad','Nombre']]"
   ]
  },
  {
   "cell_type": "code",
   "execution_count": 54,
   "metadata": {},
   "outputs": [
    {
     "data": {
      "text/html": [
       "<div>\n",
       "<style scoped>\n",
       "    .dataframe tbody tr th:only-of-type {\n",
       "        vertical-align: middle;\n",
       "    }\n",
       "\n",
       "    .dataframe tbody tr th {\n",
       "        vertical-align: top;\n",
       "    }\n",
       "\n",
       "    .dataframe thead th {\n",
       "        text-align: right;\n",
       "    }\n",
       "</style>\n",
       "<table border=\"1\" class=\"dataframe\">\n",
       "  <thead>\n",
       "    <tr style=\"text-align: right;\">\n",
       "      <th></th>\n",
       "      <th>Nombre</th>\n",
       "      <th>Apellido</th>\n",
       "      <th>Edad</th>\n",
       "      <th>Municipio</th>\n",
       "      <th>Edad en Días</th>\n",
       "    </tr>\n",
       "  </thead>\n",
       "  <tbody>\n",
       "    <tr>\n",
       "      <th>0</th>\n",
       "      <td>Juan</td>\n",
       "      <td>Perez</td>\n",
       "      <td>23</td>\n",
       "      <td>Monterrey</td>\n",
       "      <td>8395</td>\n",
       "    </tr>\n",
       "    <tr>\n",
       "      <th>1</th>\n",
       "      <td>Raúl</td>\n",
       "      <td>González</td>\n",
       "      <td>17</td>\n",
       "      <td>Escobedo</td>\n",
       "      <td>6205</td>\n",
       "    </tr>\n",
       "  </tbody>\n",
       "</table>\n",
       "</div>"
      ],
      "text/plain": [
       "  Nombre  Apellido  Edad  Municipio  Edad en Días\n",
       "0   Juan     Perez    23  Monterrey          8395\n",
       "1   Raúl  González    17   Escobedo          6205"
      ]
     },
     "execution_count": 54,
     "metadata": {},
     "output_type": "execute_result"
    }
   ],
   "source": [
    "# Selección Estándar *pero con filas*\n",
    "\n",
    "df_clase[0:2]\n",
    "#Con la selección estándar no se puede seleccionar una sola fila"
   ]
  },
  {
   "cell_type": "code",
   "execution_count": 55,
   "metadata": {},
   "outputs": [
    {
     "data": {
      "text/plain": [
       "0    23\n",
       "1    17\n",
       "Name: Edad, dtype: int64"
      ]
     },
     "execution_count": 55,
     "metadata": {},
     "output_type": "execute_result"
    }
   ],
   "source": [
    "df_clase[0:2]['Edad']"
   ]
  },
  {
   "cell_type": "markdown",
   "metadata": {},
   "source": [
    "### Selección .iloc (posición)\n",
    "\n",
    "dataframe.iloc[filas,columnas]"
   ]
  },
  {
   "cell_type": "code",
   "execution_count": 62,
   "metadata": {},
   "outputs": [
    {
     "data": {
      "text/plain": [
       "23"
      ]
     },
     "execution_count": 62,
     "metadata": {},
     "output_type": "execute_result"
    }
   ],
   "source": [
    "df_clase.iloc[0,2]"
   ]
  },
  {
   "cell_type": "code",
   "execution_count": 63,
   "metadata": {},
   "outputs": [
    {
     "data": {
      "text/plain": [
       "0    23\n",
       "1    17\n",
       "Name: Edad, dtype: int64"
      ]
     },
     "execution_count": 63,
     "metadata": {},
     "output_type": "execute_result"
    }
   ],
   "source": [
    "df_clase.iloc[0:2,2]"
   ]
  },
  {
   "cell_type": "code",
   "execution_count": 67,
   "metadata": {},
   "outputs": [
    {
     "data": {
      "text/html": [
       "<div>\n",
       "<style scoped>\n",
       "    .dataframe tbody tr th:only-of-type {\n",
       "        vertical-align: middle;\n",
       "    }\n",
       "\n",
       "    .dataframe tbody tr th {\n",
       "        vertical-align: top;\n",
       "    }\n",
       "\n",
       "    .dataframe thead th {\n",
       "        text-align: right;\n",
       "    }\n",
       "</style>\n",
       "<table border=\"1\" class=\"dataframe\">\n",
       "  <thead>\n",
       "    <tr style=\"text-align: right;\">\n",
       "      <th></th>\n",
       "      <th>Apellido</th>\n",
       "      <th>Edad</th>\n",
       "    </tr>\n",
       "  </thead>\n",
       "  <tbody>\n",
       "    <tr>\n",
       "      <th>0</th>\n",
       "      <td>Perez</td>\n",
       "      <td>23</td>\n",
       "    </tr>\n",
       "    <tr>\n",
       "      <th>1</th>\n",
       "      <td>González</td>\n",
       "      <td>17</td>\n",
       "    </tr>\n",
       "    <tr>\n",
       "      <th>2</th>\n",
       "      <td>Rosas</td>\n",
       "      <td>20</td>\n",
       "    </tr>\n",
       "    <tr>\n",
       "      <th>3</th>\n",
       "      <td>Saldaña</td>\n",
       "      <td>21</td>\n",
       "    </tr>\n",
       "  </tbody>\n",
       "</table>\n",
       "</div>"
      ],
      "text/plain": [
       "   Apellido  Edad\n",
       "0     Perez    23\n",
       "1  González    17\n",
       "2     Rosas    20\n",
       "3   Saldaña    21"
      ]
     },
     "execution_count": 67,
     "metadata": {},
     "output_type": "execute_result"
    }
   ],
   "source": [
    "df_clase.iloc[:,[1,2]]\n",
    "# Con los dos puntos \":\" se seleccionan todas las filas"
   ]
  },
  {
   "cell_type": "code",
   "execution_count": 68,
   "metadata": {},
   "outputs": [
    {
     "data": {
      "text/html": [
       "<div>\n",
       "<style scoped>\n",
       "    .dataframe tbody tr th:only-of-type {\n",
       "        vertical-align: middle;\n",
       "    }\n",
       "\n",
       "    .dataframe tbody tr th {\n",
       "        vertical-align: top;\n",
       "    }\n",
       "\n",
       "    .dataframe thead th {\n",
       "        text-align: right;\n",
       "    }\n",
       "</style>\n",
       "<table border=\"1\" class=\"dataframe\">\n",
       "  <thead>\n",
       "    <tr style=\"text-align: right;\">\n",
       "      <th></th>\n",
       "      <th>Nombre</th>\n",
       "      <th>Apellido</th>\n",
       "      <th>Edad</th>\n",
       "      <th>Municipio</th>\n",
       "      <th>Edad en Días</th>\n",
       "    </tr>\n",
       "  </thead>\n",
       "  <tbody>\n",
       "    <tr>\n",
       "      <th>0</th>\n",
       "      <td>Juan</td>\n",
       "      <td>Perez</td>\n",
       "      <td>23</td>\n",
       "      <td>Monterrey</td>\n",
       "      <td>8395</td>\n",
       "    </tr>\n",
       "    <tr>\n",
       "      <th>1</th>\n",
       "      <td>Raúl</td>\n",
       "      <td>González</td>\n",
       "      <td>17</td>\n",
       "      <td>Escobedo</td>\n",
       "      <td>6205</td>\n",
       "    </tr>\n",
       "    <tr>\n",
       "      <th>2</th>\n",
       "      <td>Jimena</td>\n",
       "      <td>Rosas</td>\n",
       "      <td>20</td>\n",
       "      <td>Apodaca</td>\n",
       "      <td>7300</td>\n",
       "    </tr>\n",
       "    <tr>\n",
       "      <th>3</th>\n",
       "      <td>Alejandra</td>\n",
       "      <td>Saldaña</td>\n",
       "      <td>21</td>\n",
       "      <td>Santiago</td>\n",
       "      <td>7665</td>\n",
       "    </tr>\n",
       "  </tbody>\n",
       "</table>\n",
       "</div>"
      ],
      "text/plain": [
       "      Nombre  Apellido  Edad  Municipio  Edad en Días\n",
       "0       Juan     Perez    23  Monterrey          8395\n",
       "1       Raúl  González    17   Escobedo          6205\n",
       "2     Jimena     Rosas    20    Apodaca          7300\n",
       "3  Alejandra   Saldaña    21   Santiago          7665"
      ]
     },
     "execution_count": 68,
     "metadata": {},
     "output_type": "execute_result"
    }
   ],
   "source": [
    "df_clase"
   ]
  },
  {
   "cell_type": "code",
   "execution_count": 70,
   "metadata": {},
   "outputs": [],
   "source": [
    "# Vamos a cambiar el Index\n",
    "df_clase=df_clase.set_index('Nombre')"
   ]
  },
  {
   "cell_type": "code",
   "execution_count": 71,
   "metadata": {},
   "outputs": [
    {
     "data": {
      "text/html": [
       "<div>\n",
       "<style scoped>\n",
       "    .dataframe tbody tr th:only-of-type {\n",
       "        vertical-align: middle;\n",
       "    }\n",
       "\n",
       "    .dataframe tbody tr th {\n",
       "        vertical-align: top;\n",
       "    }\n",
       "\n",
       "    .dataframe thead th {\n",
       "        text-align: right;\n",
       "    }\n",
       "</style>\n",
       "<table border=\"1\" class=\"dataframe\">\n",
       "  <thead>\n",
       "    <tr style=\"text-align: right;\">\n",
       "      <th></th>\n",
       "      <th>Apellido</th>\n",
       "      <th>Edad</th>\n",
       "      <th>Municipio</th>\n",
       "      <th>Edad en Días</th>\n",
       "    </tr>\n",
       "    <tr>\n",
       "      <th>Nombre</th>\n",
       "      <th></th>\n",
       "      <th></th>\n",
       "      <th></th>\n",
       "      <th></th>\n",
       "    </tr>\n",
       "  </thead>\n",
       "  <tbody>\n",
       "    <tr>\n",
       "      <th>Juan</th>\n",
       "      <td>Perez</td>\n",
       "      <td>23</td>\n",
       "      <td>Monterrey</td>\n",
       "      <td>8395</td>\n",
       "    </tr>\n",
       "    <tr>\n",
       "      <th>Raúl</th>\n",
       "      <td>González</td>\n",
       "      <td>17</td>\n",
       "      <td>Escobedo</td>\n",
       "      <td>6205</td>\n",
       "    </tr>\n",
       "    <tr>\n",
       "      <th>Jimena</th>\n",
       "      <td>Rosas</td>\n",
       "      <td>20</td>\n",
       "      <td>Apodaca</td>\n",
       "      <td>7300</td>\n",
       "    </tr>\n",
       "    <tr>\n",
       "      <th>Alejandra</th>\n",
       "      <td>Saldaña</td>\n",
       "      <td>21</td>\n",
       "      <td>Santiago</td>\n",
       "      <td>7665</td>\n",
       "    </tr>\n",
       "  </tbody>\n",
       "</table>\n",
       "</div>"
      ],
      "text/plain": [
       "           Apellido  Edad  Municipio  Edad en Días\n",
       "Nombre                                            \n",
       "Juan          Perez    23  Monterrey          8395\n",
       "Raúl       González    17   Escobedo          6205\n",
       "Jimena        Rosas    20    Apodaca          7300\n",
       "Alejandra   Saldaña    21   Santiago          7665"
      ]
     },
     "execution_count": 71,
     "metadata": {},
     "output_type": "execute_result"
    }
   ],
   "source": [
    "df_clase"
   ]
  },
  {
   "cell_type": "code",
   "execution_count": 72,
   "metadata": {},
   "outputs": [
    {
     "data": {
      "text/plain": [
       "Index(['Apellido', 'Edad', 'Municipio', 'Edad en Días'], dtype='object')"
      ]
     },
     "execution_count": 72,
     "metadata": {},
     "output_type": "execute_result"
    }
   ],
   "source": [
    "df_clase.columns"
   ]
  },
  {
   "cell_type": "code",
   "execution_count": 73,
   "metadata": {},
   "outputs": [
    {
     "data": {
      "text/plain": [
       "Index(['Juan', 'Raúl', 'Jimena', 'Alejandra'], dtype='object', name='Nombre')"
      ]
     },
     "execution_count": 73,
     "metadata": {},
     "output_type": "execute_result"
    }
   ],
   "source": [
    "df_clase.index"
   ]
  },
  {
   "cell_type": "markdown",
   "metadata": {},
   "source": [
    "### Selecciión por .loc (etiquetas)\n",
    "df_clase.loc[nombre filas,nombre columnas]"
   ]
  },
  {
   "cell_type": "code",
   "execution_count": 74,
   "metadata": {},
   "outputs": [
    {
     "data": {
      "text/plain": [
       "Nombre\n",
       "Juan         23\n",
       "Raúl         17\n",
       "Jimena       20\n",
       "Alejandra    21\n",
       "Name: Edad, dtype: int64"
      ]
     },
     "execution_count": 74,
     "metadata": {},
     "output_type": "execute_result"
    }
   ],
   "source": [
    "df_clase.loc[:, 'Edad']"
   ]
  },
  {
   "cell_type": "code",
   "execution_count": 75,
   "metadata": {},
   "outputs": [
    {
     "data": {
      "text/plain": [
       "23"
      ]
     },
     "execution_count": 75,
     "metadata": {},
     "output_type": "execute_result"
    }
   ],
   "source": [
    "df_clase.loc['Juan','Edad']"
   ]
  },
  {
   "cell_type": "markdown",
   "metadata": {},
   "source": [
    "### Selección por SQL\n",
    "\n",
    "df_clase.NombreColumna"
   ]
  },
  {
   "cell_type": "code",
   "execution_count": 76,
   "metadata": {},
   "outputs": [
    {
     "data": {
      "text/plain": [
       "Nombre\n",
       "Juan         23\n",
       "Raúl         17\n",
       "Jimena       20\n",
       "Alejandra    21\n",
       "Name: Edad, dtype: int64"
      ]
     },
     "execution_count": 76,
     "metadata": {},
     "output_type": "execute_result"
    }
   ],
   "source": [
    "df_clase.Edad"
   ]
  },
  {
   "cell_type": "markdown",
   "metadata": {},
   "source": [
    "### Selección condicional\n",
    "\n"
   ]
  },
  {
   "cell_type": "code",
   "execution_count": 77,
   "metadata": {},
   "outputs": [
    {
     "data": {
      "text/html": [
       "<div>\n",
       "<style scoped>\n",
       "    .dataframe tbody tr th:only-of-type {\n",
       "        vertical-align: middle;\n",
       "    }\n",
       "\n",
       "    .dataframe tbody tr th {\n",
       "        vertical-align: top;\n",
       "    }\n",
       "\n",
       "    .dataframe thead th {\n",
       "        text-align: right;\n",
       "    }\n",
       "</style>\n",
       "<table border=\"1\" class=\"dataframe\">\n",
       "  <thead>\n",
       "    <tr style=\"text-align: right;\">\n",
       "      <th></th>\n",
       "      <th>Apellido</th>\n",
       "      <th>Edad</th>\n",
       "      <th>Municipio</th>\n",
       "      <th>Edad en Días</th>\n",
       "    </tr>\n",
       "    <tr>\n",
       "      <th>Nombre</th>\n",
       "      <th></th>\n",
       "      <th></th>\n",
       "      <th></th>\n",
       "      <th></th>\n",
       "    </tr>\n",
       "  </thead>\n",
       "  <tbody>\n",
       "    <tr>\n",
       "      <th>Juan</th>\n",
       "      <td>Perez</td>\n",
       "      <td>23</td>\n",
       "      <td>Monterrey</td>\n",
       "      <td>8395</td>\n",
       "    </tr>\n",
       "    <tr>\n",
       "      <th>Raúl</th>\n",
       "      <td>González</td>\n",
       "      <td>17</td>\n",
       "      <td>Escobedo</td>\n",
       "      <td>6205</td>\n",
       "    </tr>\n",
       "    <tr>\n",
       "      <th>Jimena</th>\n",
       "      <td>Rosas</td>\n",
       "      <td>20</td>\n",
       "      <td>Apodaca</td>\n",
       "      <td>7300</td>\n",
       "    </tr>\n",
       "    <tr>\n",
       "      <th>Alejandra</th>\n",
       "      <td>Saldaña</td>\n",
       "      <td>21</td>\n",
       "      <td>Santiago</td>\n",
       "      <td>7665</td>\n",
       "    </tr>\n",
       "  </tbody>\n",
       "</table>\n",
       "</div>"
      ],
      "text/plain": [
       "           Apellido  Edad  Municipio  Edad en Días\n",
       "Nombre                                            \n",
       "Juan          Perez    23  Monterrey          8395\n",
       "Raúl       González    17   Escobedo          6205\n",
       "Jimena        Rosas    20    Apodaca          7300\n",
       "Alejandra   Saldaña    21   Santiago          7665"
      ]
     },
     "execution_count": 77,
     "metadata": {},
     "output_type": "execute_result"
    }
   ],
   "source": [
    "df_clase"
   ]
  },
  {
   "cell_type": "code",
   "execution_count": 78,
   "metadata": {},
   "outputs": [
    {
     "data": {
      "text/html": [
       "<div>\n",
       "<style scoped>\n",
       "    .dataframe tbody tr th:only-of-type {\n",
       "        vertical-align: middle;\n",
       "    }\n",
       "\n",
       "    .dataframe tbody tr th {\n",
       "        vertical-align: top;\n",
       "    }\n",
       "\n",
       "    .dataframe thead th {\n",
       "        text-align: right;\n",
       "    }\n",
       "</style>\n",
       "<table border=\"1\" class=\"dataframe\">\n",
       "  <thead>\n",
       "    <tr style=\"text-align: right;\">\n",
       "      <th></th>\n",
       "      <th>Apellido</th>\n",
       "      <th>Edad</th>\n",
       "      <th>Municipio</th>\n",
       "      <th>Edad en Días</th>\n",
       "    </tr>\n",
       "    <tr>\n",
       "      <th>Nombre</th>\n",
       "      <th></th>\n",
       "      <th></th>\n",
       "      <th></th>\n",
       "      <th></th>\n",
       "    </tr>\n",
       "  </thead>\n",
       "  <tbody>\n",
       "    <tr>\n",
       "      <th>Juan</th>\n",
       "      <td>Perez</td>\n",
       "      <td>23</td>\n",
       "      <td>Monterrey</td>\n",
       "      <td>8395</td>\n",
       "    </tr>\n",
       "    <tr>\n",
       "      <th>Jimena</th>\n",
       "      <td>Rosas</td>\n",
       "      <td>20</td>\n",
       "      <td>Apodaca</td>\n",
       "      <td>7300</td>\n",
       "    </tr>\n",
       "    <tr>\n",
       "      <th>Alejandra</th>\n",
       "      <td>Saldaña</td>\n",
       "      <td>21</td>\n",
       "      <td>Santiago</td>\n",
       "      <td>7665</td>\n",
       "    </tr>\n",
       "  </tbody>\n",
       "</table>\n",
       "</div>"
      ],
      "text/plain": [
       "          Apellido  Edad  Municipio  Edad en Días\n",
       "Nombre                                           \n",
       "Juan         Perez    23  Monterrey          8395\n",
       "Jimena       Rosas    20    Apodaca          7300\n",
       "Alejandra  Saldaña    21   Santiago          7665"
      ]
     },
     "execution_count": 78,
     "metadata": {},
     "output_type": "execute_result"
    }
   ],
   "source": [
    "df_clase[df_clase['Edad']>=18]"
   ]
  },
  {
   "cell_type": "code",
   "execution_count": 79,
   "metadata": {},
   "outputs": [
    {
     "data": {
      "text/html": [
       "<div>\n",
       "<style scoped>\n",
       "    .dataframe tbody tr th:only-of-type {\n",
       "        vertical-align: middle;\n",
       "    }\n",
       "\n",
       "    .dataframe tbody tr th {\n",
       "        vertical-align: top;\n",
       "    }\n",
       "\n",
       "    .dataframe thead th {\n",
       "        text-align: right;\n",
       "    }\n",
       "</style>\n",
       "<table border=\"1\" class=\"dataframe\">\n",
       "  <thead>\n",
       "    <tr style=\"text-align: right;\">\n",
       "      <th></th>\n",
       "      <th>Apellido</th>\n",
       "      <th>Edad</th>\n",
       "      <th>Municipio</th>\n",
       "      <th>Edad en Días</th>\n",
       "    </tr>\n",
       "    <tr>\n",
       "      <th>Nombre</th>\n",
       "      <th></th>\n",
       "      <th></th>\n",
       "      <th></th>\n",
       "      <th></th>\n",
       "    </tr>\n",
       "  </thead>\n",
       "  <tbody>\n",
       "    <tr>\n",
       "      <th>Jimena</th>\n",
       "      <td>Rosas</td>\n",
       "      <td>20</td>\n",
       "      <td>Apodaca</td>\n",
       "      <td>7300</td>\n",
       "    </tr>\n",
       "  </tbody>\n",
       "</table>\n",
       "</div>"
      ],
      "text/plain": [
       "       Apellido  Edad Municipio  Edad en Días\n",
       "Nombre                                       \n",
       "Jimena    Rosas    20   Apodaca          7300"
      ]
     },
     "execution_count": 79,
     "metadata": {},
     "output_type": "execute_result"
    }
   ],
   "source": [
    "df_clase[df_clase['Municipio']=='Apodaca']"
   ]
  },
  {
   "cell_type": "markdown",
   "metadata": {},
   "source": [
    "### Ordenamiento con Pandas"
   ]
  },
  {
   "cell_type": "code",
   "execution_count": 80,
   "metadata": {},
   "outputs": [
    {
     "data": {
      "text/html": [
       "<div>\n",
       "<style scoped>\n",
       "    .dataframe tbody tr th:only-of-type {\n",
       "        vertical-align: middle;\n",
       "    }\n",
       "\n",
       "    .dataframe tbody tr th {\n",
       "        vertical-align: top;\n",
       "    }\n",
       "\n",
       "    .dataframe thead th {\n",
       "        text-align: right;\n",
       "    }\n",
       "</style>\n",
       "<table border=\"1\" class=\"dataframe\">\n",
       "  <thead>\n",
       "    <tr style=\"text-align: right;\">\n",
       "      <th></th>\n",
       "      <th>Apellido</th>\n",
       "      <th>Edad</th>\n",
       "      <th>Municipio</th>\n",
       "      <th>Edad en Días</th>\n",
       "    </tr>\n",
       "    <tr>\n",
       "      <th>Nombre</th>\n",
       "      <th></th>\n",
       "      <th></th>\n",
       "      <th></th>\n",
       "      <th></th>\n",
       "    </tr>\n",
       "  </thead>\n",
       "  <tbody>\n",
       "    <tr>\n",
       "      <th>Juan</th>\n",
       "      <td>Perez</td>\n",
       "      <td>23</td>\n",
       "      <td>Monterrey</td>\n",
       "      <td>8395</td>\n",
       "    </tr>\n",
       "    <tr>\n",
       "      <th>Raúl</th>\n",
       "      <td>González</td>\n",
       "      <td>17</td>\n",
       "      <td>Escobedo</td>\n",
       "      <td>6205</td>\n",
       "    </tr>\n",
       "    <tr>\n",
       "      <th>Jimena</th>\n",
       "      <td>Rosas</td>\n",
       "      <td>20</td>\n",
       "      <td>Apodaca</td>\n",
       "      <td>7300</td>\n",
       "    </tr>\n",
       "    <tr>\n",
       "      <th>Alejandra</th>\n",
       "      <td>Saldaña</td>\n",
       "      <td>21</td>\n",
       "      <td>Santiago</td>\n",
       "      <td>7665</td>\n",
       "    </tr>\n",
       "  </tbody>\n",
       "</table>\n",
       "</div>"
      ],
      "text/plain": [
       "           Apellido  Edad  Municipio  Edad en Días\n",
       "Nombre                                            \n",
       "Juan          Perez    23  Monterrey          8395\n",
       "Raúl       González    17   Escobedo          6205\n",
       "Jimena        Rosas    20    Apodaca          7300\n",
       "Alejandra   Saldaña    21   Santiago          7665"
      ]
     },
     "execution_count": 80,
     "metadata": {},
     "output_type": "execute_result"
    }
   ],
   "source": [
    "df_clase"
   ]
  },
  {
   "cell_type": "code",
   "execution_count": 82,
   "metadata": {},
   "outputs": [
    {
     "data": {
      "text/html": [
       "<div>\n",
       "<style scoped>\n",
       "    .dataframe tbody tr th:only-of-type {\n",
       "        vertical-align: middle;\n",
       "    }\n",
       "\n",
       "    .dataframe tbody tr th {\n",
       "        vertical-align: top;\n",
       "    }\n",
       "\n",
       "    .dataframe thead th {\n",
       "        text-align: right;\n",
       "    }\n",
       "</style>\n",
       "<table border=\"1\" class=\"dataframe\">\n",
       "  <thead>\n",
       "    <tr style=\"text-align: right;\">\n",
       "      <th></th>\n",
       "      <th>Apellido</th>\n",
       "      <th>Edad</th>\n",
       "      <th>Municipio</th>\n",
       "      <th>Edad en Días</th>\n",
       "    </tr>\n",
       "    <tr>\n",
       "      <th>Nombre</th>\n",
       "      <th></th>\n",
       "      <th></th>\n",
       "      <th></th>\n",
       "      <th></th>\n",
       "    </tr>\n",
       "  </thead>\n",
       "  <tbody>\n",
       "    <tr>\n",
       "      <th>Raúl</th>\n",
       "      <td>González</td>\n",
       "      <td>17</td>\n",
       "      <td>Escobedo</td>\n",
       "      <td>6205</td>\n",
       "    </tr>\n",
       "    <tr>\n",
       "      <th>Jimena</th>\n",
       "      <td>Rosas</td>\n",
       "      <td>20</td>\n",
       "      <td>Apodaca</td>\n",
       "      <td>7300</td>\n",
       "    </tr>\n",
       "    <tr>\n",
       "      <th>Alejandra</th>\n",
       "      <td>Saldaña</td>\n",
       "      <td>21</td>\n",
       "      <td>Santiago</td>\n",
       "      <td>7665</td>\n",
       "    </tr>\n",
       "    <tr>\n",
       "      <th>Juan</th>\n",
       "      <td>Perez</td>\n",
       "      <td>23</td>\n",
       "      <td>Monterrey</td>\n",
       "      <td>8395</td>\n",
       "    </tr>\n",
       "  </tbody>\n",
       "</table>\n",
       "</div>"
      ],
      "text/plain": [
       "           Apellido  Edad  Municipio  Edad en Días\n",
       "Nombre                                            \n",
       "Raúl       González    17   Escobedo          6205\n",
       "Jimena        Rosas    20    Apodaca          7300\n",
       "Alejandra   Saldaña    21   Santiago          7665\n",
       "Juan          Perez    23  Monterrey          8395"
      ]
     },
     "execution_count": 82,
     "metadata": {},
     "output_type": "execute_result"
    }
   ],
   "source": [
    "# Vamor a ordenarlos por edad\n",
    "df_clase.sort_values('Edad')"
   ]
  },
  {
   "cell_type": "code",
   "execution_count": 83,
   "metadata": {},
   "outputs": [
    {
     "data": {
      "text/html": [
       "<div>\n",
       "<style scoped>\n",
       "    .dataframe tbody tr th:only-of-type {\n",
       "        vertical-align: middle;\n",
       "    }\n",
       "\n",
       "    .dataframe tbody tr th {\n",
       "        vertical-align: top;\n",
       "    }\n",
       "\n",
       "    .dataframe thead th {\n",
       "        text-align: right;\n",
       "    }\n",
       "</style>\n",
       "<table border=\"1\" class=\"dataframe\">\n",
       "  <thead>\n",
       "    <tr style=\"text-align: right;\">\n",
       "      <th></th>\n",
       "      <th>Apellido</th>\n",
       "      <th>Edad</th>\n",
       "      <th>Municipio</th>\n",
       "      <th>Edad en Días</th>\n",
       "    </tr>\n",
       "    <tr>\n",
       "      <th>Nombre</th>\n",
       "      <th></th>\n",
       "      <th></th>\n",
       "      <th></th>\n",
       "      <th></th>\n",
       "    </tr>\n",
       "  </thead>\n",
       "  <tbody>\n",
       "    <tr>\n",
       "      <th>Alejandra</th>\n",
       "      <td>Saldaña</td>\n",
       "      <td>21</td>\n",
       "      <td>Santiago</td>\n",
       "      <td>7665</td>\n",
       "    </tr>\n",
       "    <tr>\n",
       "      <th>Jimena</th>\n",
       "      <td>Rosas</td>\n",
       "      <td>20</td>\n",
       "      <td>Apodaca</td>\n",
       "      <td>7300</td>\n",
       "    </tr>\n",
       "    <tr>\n",
       "      <th>Juan</th>\n",
       "      <td>Perez</td>\n",
       "      <td>23</td>\n",
       "      <td>Monterrey</td>\n",
       "      <td>8395</td>\n",
       "    </tr>\n",
       "    <tr>\n",
       "      <th>Raúl</th>\n",
       "      <td>González</td>\n",
       "      <td>17</td>\n",
       "      <td>Escobedo</td>\n",
       "      <td>6205</td>\n",
       "    </tr>\n",
       "  </tbody>\n",
       "</table>\n",
       "</div>"
      ],
      "text/plain": [
       "           Apellido  Edad  Municipio  Edad en Días\n",
       "Nombre                                            \n",
       "Alejandra   Saldaña    21   Santiago          7665\n",
       "Jimena        Rosas    20    Apodaca          7300\n",
       "Juan          Perez    23  Monterrey          8395\n",
       "Raúl       González    17   Escobedo          6205"
      ]
     },
     "execution_count": 83,
     "metadata": {},
     "output_type": "execute_result"
    }
   ],
   "source": [
    "df_clase.sort_values('Nombre')"
   ]
  },
  {
   "cell_type": "code",
   "execution_count": 85,
   "metadata": {},
   "outputs": [
    {
     "data": {
      "text/html": [
       "<div>\n",
       "<style scoped>\n",
       "    .dataframe tbody tr th:only-of-type {\n",
       "        vertical-align: middle;\n",
       "    }\n",
       "\n",
       "    .dataframe tbody tr th {\n",
       "        vertical-align: top;\n",
       "    }\n",
       "\n",
       "    .dataframe thead th {\n",
       "        text-align: right;\n",
       "    }\n",
       "</style>\n",
       "<table border=\"1\" class=\"dataframe\">\n",
       "  <thead>\n",
       "    <tr style=\"text-align: right;\">\n",
       "      <th></th>\n",
       "      <th>Apellido</th>\n",
       "      <th>Edad</th>\n",
       "      <th>Municipio</th>\n",
       "      <th>Edad en Días</th>\n",
       "    </tr>\n",
       "    <tr>\n",
       "      <th>Nombre</th>\n",
       "      <th></th>\n",
       "      <th></th>\n",
       "      <th></th>\n",
       "      <th></th>\n",
       "    </tr>\n",
       "  </thead>\n",
       "  <tbody>\n",
       "    <tr>\n",
       "      <th>Juan</th>\n",
       "      <td>Perez</td>\n",
       "      <td>23</td>\n",
       "      <td>Monterrey</td>\n",
       "      <td>8395</td>\n",
       "    </tr>\n",
       "    <tr>\n",
       "      <th>Alejandra</th>\n",
       "      <td>Saldaña</td>\n",
       "      <td>21</td>\n",
       "      <td>Santiago</td>\n",
       "      <td>7665</td>\n",
       "    </tr>\n",
       "    <tr>\n",
       "      <th>Jimena</th>\n",
       "      <td>Rosas</td>\n",
       "      <td>20</td>\n",
       "      <td>Apodaca</td>\n",
       "      <td>7300</td>\n",
       "    </tr>\n",
       "    <tr>\n",
       "      <th>Raúl</th>\n",
       "      <td>González</td>\n",
       "      <td>17</td>\n",
       "      <td>Escobedo</td>\n",
       "      <td>6205</td>\n",
       "    </tr>\n",
       "  </tbody>\n",
       "</table>\n",
       "</div>"
      ],
      "text/plain": [
       "           Apellido  Edad  Municipio  Edad en Días\n",
       "Nombre                                            \n",
       "Juan          Perez    23  Monterrey          8395\n",
       "Alejandra   Saldaña    21   Santiago          7665\n",
       "Jimena        Rosas    20    Apodaca          7300\n",
       "Raúl       González    17   Escobedo          6205"
      ]
     },
     "execution_count": 85,
     "metadata": {},
     "output_type": "execute_result"
    }
   ],
   "source": [
    "# Ordenar por edad de mayor a menor\n",
    "df_clase.sort_values('Edad',ascending=False)"
   ]
  },
  {
   "cell_type": "code",
   "execution_count": 88,
   "metadata": {},
   "outputs": [
    {
     "data": {
      "text/html": [
       "<div>\n",
       "<style scoped>\n",
       "    .dataframe tbody tr th:only-of-type {\n",
       "        vertical-align: middle;\n",
       "    }\n",
       "\n",
       "    .dataframe tbody tr th {\n",
       "        vertical-align: top;\n",
       "    }\n",
       "\n",
       "    .dataframe thead th {\n",
       "        text-align: right;\n",
       "    }\n",
       "</style>\n",
       "<table border=\"1\" class=\"dataframe\">\n",
       "  <thead>\n",
       "    <tr style=\"text-align: right;\">\n",
       "      <th></th>\n",
       "      <th>Apellido</th>\n",
       "      <th>Edad</th>\n",
       "      <th>Municipio</th>\n",
       "      <th>Edad en Días</th>\n",
       "    </tr>\n",
       "    <tr>\n",
       "      <th>Nombre</th>\n",
       "      <th></th>\n",
       "      <th></th>\n",
       "      <th></th>\n",
       "      <th></th>\n",
       "    </tr>\n",
       "  </thead>\n",
       "  <tbody>\n",
       "    <tr>\n",
       "      <th>Raúl</th>\n",
       "      <td>González</td>\n",
       "      <td>17</td>\n",
       "      <td>Escobedo</td>\n",
       "      <td>6205</td>\n",
       "    </tr>\n",
       "    <tr>\n",
       "      <th>Jimena</th>\n",
       "      <td>Rosas</td>\n",
       "      <td>20</td>\n",
       "      <td>Apodaca</td>\n",
       "      <td>7300</td>\n",
       "    </tr>\n",
       "    <tr>\n",
       "      <th>Alejandra</th>\n",
       "      <td>Saldaña</td>\n",
       "      <td>21</td>\n",
       "      <td>Santiago</td>\n",
       "      <td>7665</td>\n",
       "    </tr>\n",
       "    <tr>\n",
       "      <th>Juan</th>\n",
       "      <td>Perez</td>\n",
       "      <td>23</td>\n",
       "      <td>Monterrey</td>\n",
       "      <td>8395</td>\n",
       "    </tr>\n",
       "  </tbody>\n",
       "</table>\n",
       "</div>"
      ],
      "text/plain": [
       "           Apellido  Edad  Municipio  Edad en Días\n",
       "Nombre                                            \n",
       "Raúl       González    17   Escobedo          6205\n",
       "Jimena        Rosas    20    Apodaca          7300\n",
       "Alejandra   Saldaña    21   Santiago          7665\n",
       "Juan          Perez    23  Monterrey          8395"
      ]
     },
     "execution_count": 88,
     "metadata": {},
     "output_type": "execute_result"
    }
   ],
   "source": [
    "# En este caso, ordena varias variables. \n",
    "# Siempre ordena de izq a der\n",
    "df_clase.sort_values(['Edad','Apellido'])"
   ]
  },
  {
   "cell_type": "markdown",
   "metadata": {},
   "source": [
    "### Funciones con Numpy"
   ]
  },
  {
   "cell_type": "code",
   "execution_count": 94,
   "metadata": {},
   "outputs": [],
   "source": [
    "import numpy as np"
   ]
  },
  {
   "cell_type": "code",
   "execution_count": 89,
   "metadata": {},
   "outputs": [
    {
     "data": {
      "text/plain": [
       "20.25"
      ]
     },
     "execution_count": 89,
     "metadata": {},
     "output_type": "execute_result"
    }
   ],
   "source": [
    "# Numpy\n",
    "df_clase['Edad'].mean()"
   ]
  },
  {
   "cell_type": "code",
   "execution_count": 90,
   "metadata": {},
   "outputs": [
    {
     "data": {
      "text/plain": [
       "2.5"
      ]
     },
     "execution_count": 90,
     "metadata": {},
     "output_type": "execute_result"
    }
   ],
   "source": [
    "df_clase['Edad'].std(ddof=1)"
   ]
  },
  {
   "cell_type": "code",
   "execution_count": 92,
   "metadata": {},
   "outputs": [
    {
     "data": {
      "text/plain": [
       "81"
      ]
     },
     "execution_count": 92,
     "metadata": {},
     "output_type": "execute_result"
    }
   ],
   "source": [
    "df_clase['Edad'].sum()"
   ]
  },
  {
   "cell_type": "code",
   "execution_count": 96,
   "metadata": {},
   "outputs": [],
   "source": [
    "# np.where (condicion, valor verdadero, valor falso)\n",
    "# Es la función \"Si\" de Excel\n",
    "df_clase['Mayoría_Edad']=np.where(df_clase['Edad']>=18,'Mayor','Menor')\n"
   ]
  },
  {
   "cell_type": "code",
   "execution_count": 97,
   "metadata": {},
   "outputs": [
    {
     "data": {
      "text/html": [
       "<div>\n",
       "<style scoped>\n",
       "    .dataframe tbody tr th:only-of-type {\n",
       "        vertical-align: middle;\n",
       "    }\n",
       "\n",
       "    .dataframe tbody tr th {\n",
       "        vertical-align: top;\n",
       "    }\n",
       "\n",
       "    .dataframe thead th {\n",
       "        text-align: right;\n",
       "    }\n",
       "</style>\n",
       "<table border=\"1\" class=\"dataframe\">\n",
       "  <thead>\n",
       "    <tr style=\"text-align: right;\">\n",
       "      <th></th>\n",
       "      <th>Apellido</th>\n",
       "      <th>Edad</th>\n",
       "      <th>Municipio</th>\n",
       "      <th>Edad en Días</th>\n",
       "      <th>Mayoría_Edad</th>\n",
       "    </tr>\n",
       "    <tr>\n",
       "      <th>Nombre</th>\n",
       "      <th></th>\n",
       "      <th></th>\n",
       "      <th></th>\n",
       "      <th></th>\n",
       "      <th></th>\n",
       "    </tr>\n",
       "  </thead>\n",
       "  <tbody>\n",
       "    <tr>\n",
       "      <th>Juan</th>\n",
       "      <td>Perez</td>\n",
       "      <td>23</td>\n",
       "      <td>Monterrey</td>\n",
       "      <td>8395</td>\n",
       "      <td>Mayor</td>\n",
       "    </tr>\n",
       "    <tr>\n",
       "      <th>Raúl</th>\n",
       "      <td>González</td>\n",
       "      <td>17</td>\n",
       "      <td>Escobedo</td>\n",
       "      <td>6205</td>\n",
       "      <td>Menor</td>\n",
       "    </tr>\n",
       "    <tr>\n",
       "      <th>Jimena</th>\n",
       "      <td>Rosas</td>\n",
       "      <td>20</td>\n",
       "      <td>Apodaca</td>\n",
       "      <td>7300</td>\n",
       "      <td>Mayor</td>\n",
       "    </tr>\n",
       "    <tr>\n",
       "      <th>Alejandra</th>\n",
       "      <td>Saldaña</td>\n",
       "      <td>21</td>\n",
       "      <td>Santiago</td>\n",
       "      <td>7665</td>\n",
       "      <td>Mayor</td>\n",
       "    </tr>\n",
       "  </tbody>\n",
       "</table>\n",
       "</div>"
      ],
      "text/plain": [
       "           Apellido  Edad  Municipio  Edad en Días Mayoría_Edad\n",
       "Nombre                                                         \n",
       "Juan          Perez    23  Monterrey          8395        Mayor\n",
       "Raúl       González    17   Escobedo          6205        Menor\n",
       "Jimena        Rosas    20    Apodaca          7300        Mayor\n",
       "Alejandra   Saldaña    21   Santiago          7665        Mayor"
      ]
     },
     "execution_count": 97,
     "metadata": {},
     "output_type": "execute_result"
    }
   ],
   "source": [
    "df_clase"
   ]
  },
  {
   "cell_type": "code",
   "execution_count": 103,
   "metadata": {},
   "outputs": [],
   "source": [
    "# np.select\n",
    "#np.select(condiciones, valor condicion, valor si alguna condicion no se cumple)\n",
    "#Como el Si Conjunto de Excel\n",
    "\n",
    "condiciones=[df_clase['Edad']<=17,\n",
    "             df_clase['Edad']<=23,\n",
    "             df_clase['Edad']>=23]\n",
    "valores=['Prepa','Universidad','Chamba']\n",
    "df_clase['Situación']=np.select(condiciones,valores,default='Missing')"
   ]
  },
  {
   "cell_type": "code",
   "execution_count": 105,
   "metadata": {},
   "outputs": [
    {
     "data": {
      "text/html": [
       "<div>\n",
       "<style scoped>\n",
       "    .dataframe tbody tr th:only-of-type {\n",
       "        vertical-align: middle;\n",
       "    }\n",
       "\n",
       "    .dataframe tbody tr th {\n",
       "        vertical-align: top;\n",
       "    }\n",
       "\n",
       "    .dataframe thead th {\n",
       "        text-align: right;\n",
       "    }\n",
       "</style>\n",
       "<table border=\"1\" class=\"dataframe\">\n",
       "  <thead>\n",
       "    <tr style=\"text-align: right;\">\n",
       "      <th></th>\n",
       "      <th>Apellido</th>\n",
       "      <th>Edad</th>\n",
       "      <th>Municipio</th>\n",
       "      <th>Edad en Días</th>\n",
       "      <th>Mayoría_Edad</th>\n",
       "      <th>Donde debe estar</th>\n",
       "      <th>Situación</th>\n",
       "    </tr>\n",
       "    <tr>\n",
       "      <th>Nombre</th>\n",
       "      <th></th>\n",
       "      <th></th>\n",
       "      <th></th>\n",
       "      <th></th>\n",
       "      <th></th>\n",
       "      <th></th>\n",
       "      <th></th>\n",
       "    </tr>\n",
       "  </thead>\n",
       "  <tbody>\n",
       "    <tr>\n",
       "      <th>Juan</th>\n",
       "      <td>Perez</td>\n",
       "      <td>23</td>\n",
       "      <td>Monterrey</td>\n",
       "      <td>8395</td>\n",
       "      <td>Mayor</td>\n",
       "      <td>Universidad</td>\n",
       "      <td>Universidad</td>\n",
       "    </tr>\n",
       "    <tr>\n",
       "      <th>Raúl</th>\n",
       "      <td>González</td>\n",
       "      <td>17</td>\n",
       "      <td>Escobedo</td>\n",
       "      <td>6205</td>\n",
       "      <td>Menor</td>\n",
       "      <td>Prera</td>\n",
       "      <td>Prepa</td>\n",
       "    </tr>\n",
       "    <tr>\n",
       "      <th>Jimena</th>\n",
       "      <td>Rosas</td>\n",
       "      <td>20</td>\n",
       "      <td>Apodaca</td>\n",
       "      <td>7300</td>\n",
       "      <td>Mayor</td>\n",
       "      <td>Universidad</td>\n",
       "      <td>Universidad</td>\n",
       "    </tr>\n",
       "    <tr>\n",
       "      <th>Alejandra</th>\n",
       "      <td>Saldaña</td>\n",
       "      <td>21</td>\n",
       "      <td>Santiago</td>\n",
       "      <td>7665</td>\n",
       "      <td>Mayor</td>\n",
       "      <td>Universidad</td>\n",
       "      <td>Universidad</td>\n",
       "    </tr>\n",
       "  </tbody>\n",
       "</table>\n",
       "</div>"
      ],
      "text/plain": [
       "           Apellido  Edad  Municipio  Edad en Días Mayoría_Edad  \\\n",
       "Nombre                                                            \n",
       "Juan          Perez    23  Monterrey          8395        Mayor   \n",
       "Raúl       González    17   Escobedo          6205        Menor   \n",
       "Jimena        Rosas    20    Apodaca          7300        Mayor   \n",
       "Alejandra   Saldaña    21   Santiago          7665        Mayor   \n",
       "\n",
       "          Donde debe estar    Situación  \n",
       "Nombre                                   \n",
       "Juan           Universidad  Universidad  \n",
       "Raúl                 Prera        Prepa  \n",
       "Jimena         Universidad  Universidad  \n",
       "Alejandra      Universidad  Universidad  "
      ]
     },
     "execution_count": 105,
     "metadata": {},
     "output_type": "execute_result"
    }
   ],
   "source": [
    "df_clase"
   ]
  },
  {
   "cell_type": "code",
   "execution_count": null,
   "metadata": {},
   "outputs": [],
   "source": [
    "#Eliminar columnas de un dataframe\n",
    "del df_clase['Donde debe estar']"
   ]
  },
  {
   "cell_type": "code",
   "execution_count": 107,
   "metadata": {},
   "outputs": [
    {
     "data": {
      "text/html": [
       "<div>\n",
       "<style scoped>\n",
       "    .dataframe tbody tr th:only-of-type {\n",
       "        vertical-align: middle;\n",
       "    }\n",
       "\n",
       "    .dataframe tbody tr th {\n",
       "        vertical-align: top;\n",
       "    }\n",
       "\n",
       "    .dataframe thead th {\n",
       "        text-align: right;\n",
       "    }\n",
       "</style>\n",
       "<table border=\"1\" class=\"dataframe\">\n",
       "  <thead>\n",
       "    <tr style=\"text-align: right;\">\n",
       "      <th></th>\n",
       "      <th>Apellido</th>\n",
       "      <th>Edad</th>\n",
       "      <th>Municipio</th>\n",
       "      <th>Edad en Días</th>\n",
       "      <th>Mayoría_Edad</th>\n",
       "      <th>Situación</th>\n",
       "    </tr>\n",
       "    <tr>\n",
       "      <th>Nombre</th>\n",
       "      <th></th>\n",
       "      <th></th>\n",
       "      <th></th>\n",
       "      <th></th>\n",
       "      <th></th>\n",
       "      <th></th>\n",
       "    </tr>\n",
       "  </thead>\n",
       "  <tbody>\n",
       "    <tr>\n",
       "      <th>Juan</th>\n",
       "      <td>Perez</td>\n",
       "      <td>23</td>\n",
       "      <td>Monterrey</td>\n",
       "      <td>8395</td>\n",
       "      <td>Mayor</td>\n",
       "      <td>Universidad</td>\n",
       "    </tr>\n",
       "    <tr>\n",
       "      <th>Raúl</th>\n",
       "      <td>González</td>\n",
       "      <td>17</td>\n",
       "      <td>Escobedo</td>\n",
       "      <td>6205</td>\n",
       "      <td>Menor</td>\n",
       "      <td>Prepa</td>\n",
       "    </tr>\n",
       "    <tr>\n",
       "      <th>Jimena</th>\n",
       "      <td>Rosas</td>\n",
       "      <td>20</td>\n",
       "      <td>Apodaca</td>\n",
       "      <td>7300</td>\n",
       "      <td>Mayor</td>\n",
       "      <td>Universidad</td>\n",
       "    </tr>\n",
       "    <tr>\n",
       "      <th>Alejandra</th>\n",
       "      <td>Saldaña</td>\n",
       "      <td>21</td>\n",
       "      <td>Santiago</td>\n",
       "      <td>7665</td>\n",
       "      <td>Mayor</td>\n",
       "      <td>Universidad</td>\n",
       "    </tr>\n",
       "  </tbody>\n",
       "</table>\n",
       "</div>"
      ],
      "text/plain": [
       "           Apellido  Edad  Municipio  Edad en Días Mayoría_Edad    Situación\n",
       "Nombre                                                                      \n",
       "Juan          Perez    23  Monterrey          8395        Mayor  Universidad\n",
       "Raúl       González    17   Escobedo          6205        Menor        Prepa\n",
       "Jimena        Rosas    20    Apodaca          7300        Mayor  Universidad\n",
       "Alejandra   Saldaña    21   Santiago          7665        Mayor  Universidad"
      ]
     },
     "execution_count": 107,
     "metadata": {},
     "output_type": "execute_result"
    }
   ],
   "source": [
    "df_clase"
   ]
  },
  {
   "cell_type": "code",
   "execution_count": 109,
   "metadata": {},
   "outputs": [
    {
     "data": {
      "text/plain": [
       "Apellido        4\n",
       "Edad            4\n",
       "Municipio       4\n",
       "Edad en Días    4\n",
       "Mayoría_Edad    4\n",
       "Situación       4\n",
       "dtype: int64"
      ]
     },
     "execution_count": 109,
     "metadata": {},
     "output_type": "execute_result"
    }
   ],
   "source": [
    "df_clase.count()"
   ]
  },
  {
   "cell_type": "code",
   "execution_count": 110,
   "metadata": {},
   "outputs": [
    {
     "data": {
      "text/plain": [
       "4"
      ]
     },
     "execution_count": 110,
     "metadata": {},
     "output_type": "execute_result"
    }
   ],
   "source": [
    "df_clase['Edad'].count()"
   ]
  },
  {
   "cell_type": "code",
   "execution_count": 111,
   "metadata": {},
   "outputs": [
    {
     "data": {
      "text/plain": [
       "Mayoría_Edad\n",
       "Mayor    3\n",
       "Menor    1\n",
       "Name: count, dtype: int64"
      ]
     },
     "execution_count": 111,
     "metadata": {},
     "output_type": "execute_result"
    }
   ],
   "source": [
    "df_clase.value_counts('Mayoría_Edad')"
   ]
  },
  {
   "cell_type": "code",
   "execution_count": 116,
   "metadata": {},
   "outputs": [
    {
     "data": {
      "text/plain": [
       "Mayoría_Edad\n",
       "Mayor    21.3\n",
       "Menor    17.0\n",
       "Name: Edad, dtype: float64"
      ]
     },
     "execution_count": 116,
     "metadata": {},
     "output_type": "execute_result"
    }
   ],
   "source": [
    "df_clase.groupby('Mayoría_Edad').mean(numeric_only=True).round(1)['Edad']"
   ]
  },
  {
   "cell_type": "code",
   "execution_count": 117,
   "metadata": {},
   "outputs": [
    {
     "data": {
      "text/plain": [
       "Apellido        4\n",
       "Edad            4\n",
       "Municipio       4\n",
       "Edad en Días    4\n",
       "Mayoría_Edad    4\n",
       "Situación       4\n",
       "dtype: int64"
      ]
     },
     "execution_count": 117,
     "metadata": {},
     "output_type": "execute_result"
    }
   ],
   "source": [
    "# Aggregate Abreviado: agg\n",
    "#Resumir\n",
    "df_clase.agg('count')"
   ]
  },
  {
   "cell_type": "code",
   "execution_count": 120,
   "metadata": {},
   "outputs": [
    {
     "data": {
      "text/html": [
       "<div>\n",
       "<style scoped>\n",
       "    .dataframe tbody tr th:only-of-type {\n",
       "        vertical-align: middle;\n",
       "    }\n",
       "\n",
       "    .dataframe tbody tr th {\n",
       "        vertical-align: top;\n",
       "    }\n",
       "\n",
       "    .dataframe thead th {\n",
       "        text-align: right;\n",
       "    }\n",
       "</style>\n",
       "<table border=\"1\" class=\"dataframe\">\n",
       "  <thead>\n",
       "    <tr style=\"text-align: right;\">\n",
       "      <th></th>\n",
       "      <th>mean</th>\n",
       "      <th>std</th>\n",
       "    </tr>\n",
       "    <tr>\n",
       "      <th>Mayoría_Edad</th>\n",
       "      <th></th>\n",
       "      <th></th>\n",
       "    </tr>\n",
       "  </thead>\n",
       "  <tbody>\n",
       "    <tr>\n",
       "      <th>Mayor</th>\n",
       "      <td>21.3</td>\n",
       "      <td>1.5</td>\n",
       "    </tr>\n",
       "    <tr>\n",
       "      <th>Menor</th>\n",
       "      <td>17.0</td>\n",
       "      <td>NaN</td>\n",
       "    </tr>\n",
       "  </tbody>\n",
       "</table>\n",
       "</div>"
      ],
      "text/plain": [
       "              mean  std\n",
       "Mayoría_Edad           \n",
       "Mayor         21.3  1.5\n",
       "Menor         17.0  NaN"
      ]
     },
     "execution_count": 120,
     "metadata": {},
     "output_type": "execute_result"
    }
   ],
   "source": [
    "df_clase.groupby('Mayoría_Edad')['Edad'].agg(['mean','std']).round(1)\n",
    "#Colocamos el nombre, lo agrupamos segun mayoría de edad, indico la variable de la que quiero los calculos, que calculo quiero que haga"
   ]
  },
  {
   "cell_type": "code",
   "execution_count": 121,
   "metadata": {},
   "outputs": [],
   "source": [
    "calificaciones=pd.read_csv('https://raw.githubusercontent.com/jimmyzac/Estadistica-Aplicada-FCFM-UANL/main/bases_datos/Calificaciones.csv')"
   ]
  },
  {
   "cell_type": "code",
   "execution_count": 126,
   "metadata": {},
   "outputs": [
    {
     "data": {
      "text/html": [
       "<div>\n",
       "<style scoped>\n",
       "    .dataframe tbody tr th:only-of-type {\n",
       "        vertical-align: middle;\n",
       "    }\n",
       "\n",
       "    .dataframe tbody tr th {\n",
       "        vertical-align: top;\n",
       "    }\n",
       "\n",
       "    .dataframe thead th {\n",
       "        text-align: right;\n",
       "    }\n",
       "</style>\n",
       "<table border=\"1\" class=\"dataframe\">\n",
       "  <thead>\n",
       "    <tr style=\"text-align: right;\">\n",
       "      <th></th>\n",
       "      <th>Id</th>\n",
       "      <th>Nombre</th>\n",
       "      <th>Apellido</th>\n",
       "      <th>Calficación Final</th>\n",
       "    </tr>\n",
       "  </thead>\n",
       "  <tbody>\n",
       "    <tr>\n",
       "      <th>0</th>\n",
       "      <td>1</td>\n",
       "      <td>ANTONIO</td>\n",
       "      <td>GARCIA</td>\n",
       "      <td>73</td>\n",
       "    </tr>\n",
       "    <tr>\n",
       "      <th>1</th>\n",
       "      <td>2</td>\n",
       "      <td>MANUEL</td>\n",
       "      <td>FERNANDEZ</td>\n",
       "      <td>19</td>\n",
       "    </tr>\n",
       "    <tr>\n",
       "      <th>2</th>\n",
       "      <td>3</td>\n",
       "      <td>JOSE</td>\n",
       "      <td>GONZALEZ</td>\n",
       "      <td>38</td>\n",
       "    </tr>\n",
       "    <tr>\n",
       "      <th>3</th>\n",
       "      <td>4</td>\n",
       "      <td>DAVID</td>\n",
       "      <td>PEREZ</td>\n",
       "      <td>14</td>\n",
       "    </tr>\n",
       "    <tr>\n",
       "      <th>4</th>\n",
       "      <td>5</td>\n",
       "      <td>JUAN</td>\n",
       "      <td>LOPEZ</td>\n",
       "      <td>99</td>\n",
       "    </tr>\n",
       "    <tr>\n",
       "      <th>5</th>\n",
       "      <td>6</td>\n",
       "      <td>JOSE ANTONIO</td>\n",
       "      <td>RODRIGUEZ</td>\n",
       "      <td>66</td>\n",
       "    </tr>\n",
       "    <tr>\n",
       "      <th>6</th>\n",
       "      <td>7</td>\n",
       "      <td>JAVIER</td>\n",
       "      <td>SANCHEZ</td>\n",
       "      <td>46</td>\n",
       "    </tr>\n",
       "    <tr>\n",
       "      <th>7</th>\n",
       "      <td>8</td>\n",
       "      <td>JOSE LUIS</td>\n",
       "      <td>GOMEZ</td>\n",
       "      <td>89</td>\n",
       "    </tr>\n",
       "    <tr>\n",
       "      <th>8</th>\n",
       "      <td>9</td>\n",
       "      <td>FRANCISCO JAVIER</td>\n",
       "      <td>JIMENEZ</td>\n",
       "      <td>10</td>\n",
       "    </tr>\n",
       "    <tr>\n",
       "      <th>9</th>\n",
       "      <td>10</td>\n",
       "      <td>CARLOS</td>\n",
       "      <td>RUIZ</td>\n",
       "      <td>62</td>\n",
       "    </tr>\n",
       "  </tbody>\n",
       "</table>\n",
       "</div>"
      ],
      "text/plain": [
       "   Id            Nombre   Apellido  Calficación Final\n",
       "0   1           ANTONIO     GARCIA                 73\n",
       "1   2            MANUEL  FERNANDEZ                 19\n",
       "2   3              JOSE   GONZALEZ                 38\n",
       "3   4             DAVID      PEREZ                 14\n",
       "4   5              JUAN      LOPEZ                 99\n",
       "5   6      JOSE ANTONIO  RODRIGUEZ                 66\n",
       "6   7            JAVIER    SANCHEZ                 46\n",
       "7   8         JOSE LUIS      GOMEZ                 89\n",
       "8   9  FRANCISCO JAVIER    JIMENEZ                 10\n",
       "9  10            CARLOS       RUIZ                 62"
      ]
     },
     "execution_count": 126,
     "metadata": {},
     "output_type": "execute_result"
    }
   ],
   "source": [
    "calificaciones.head(10)"
   ]
  },
  {
   "cell_type": "code",
   "execution_count": 127,
   "metadata": {},
   "outputs": [
    {
     "data": {
      "text/html": [
       "<div>\n",
       "<style scoped>\n",
       "    .dataframe tbody tr th:only-of-type {\n",
       "        vertical-align: middle;\n",
       "    }\n",
       "\n",
       "    .dataframe tbody tr th {\n",
       "        vertical-align: top;\n",
       "    }\n",
       "\n",
       "    .dataframe thead th {\n",
       "        text-align: right;\n",
       "    }\n",
       "</style>\n",
       "<table border=\"1\" class=\"dataframe\">\n",
       "  <thead>\n",
       "    <tr style=\"text-align: right;\">\n",
       "      <th></th>\n",
       "      <th>Id</th>\n",
       "      <th>Nombre</th>\n",
       "      <th>Apellido</th>\n",
       "      <th>Calficación Final</th>\n",
       "    </tr>\n",
       "  </thead>\n",
       "  <tbody>\n",
       "    <tr>\n",
       "      <th>18</th>\n",
       "      <td>19</td>\n",
       "      <td>ANGEL</td>\n",
       "      <td>GIL</td>\n",
       "      <td>100</td>\n",
       "    </tr>\n",
       "    <tr>\n",
       "      <th>19</th>\n",
       "      <td>20</td>\n",
       "      <td>SERGIO</td>\n",
       "      <td>AGUIRRE</td>\n",
       "      <td>2</td>\n",
       "    </tr>\n",
       "    <tr>\n",
       "      <th>20</th>\n",
       "      <td>21</td>\n",
       "      <td>JOSE MARIA</td>\n",
       "      <td>DIEZ</td>\n",
       "      <td>29</td>\n",
       "    </tr>\n",
       "    <tr>\n",
       "      <th>21</th>\n",
       "      <td>22</td>\n",
       "      <td>FERNANDO</td>\n",
       "      <td>SALAZAR</td>\n",
       "      <td>51</td>\n",
       "    </tr>\n",
       "    <tr>\n",
       "      <th>22</th>\n",
       "      <td>23</td>\n",
       "      <td>JORGE</td>\n",
       "      <td>RAMOS</td>\n",
       "      <td>76</td>\n",
       "    </tr>\n",
       "    <tr>\n",
       "      <th>23</th>\n",
       "      <td>24</td>\n",
       "      <td>LUIS</td>\n",
       "      <td>DOMINGUEZ</td>\n",
       "      <td>12</td>\n",
       "    </tr>\n",
       "    <tr>\n",
       "      <th>24</th>\n",
       "      <td>25</td>\n",
       "      <td>ALBERTO</td>\n",
       "      <td>ORTIZ</td>\n",
       "      <td>99</td>\n",
       "    </tr>\n",
       "    <tr>\n",
       "      <th>25</th>\n",
       "      <td>26</td>\n",
       "      <td>JUAN CARLOS</td>\n",
       "      <td>IBAÑEZ</td>\n",
       "      <td>43</td>\n",
       "    </tr>\n",
       "    <tr>\n",
       "      <th>26</th>\n",
       "      <td>27</td>\n",
       "      <td>ALVARO</td>\n",
       "      <td>RAMIREZ</td>\n",
       "      <td>40</td>\n",
       "    </tr>\n",
       "    <tr>\n",
       "      <th>27</th>\n",
       "      <td>28</td>\n",
       "      <td>ADRIAN</td>\n",
       "      <td>SAEZ</td>\n",
       "      <td>7</td>\n",
       "    </tr>\n",
       "  </tbody>\n",
       "</table>\n",
       "</div>"
      ],
      "text/plain": [
       "    Id       Nombre   Apellido  Calficación Final\n",
       "18  19        ANGEL        GIL                100\n",
       "19  20       SERGIO    AGUIRRE                  2\n",
       "20  21   JOSE MARIA       DIEZ                 29\n",
       "21  22     FERNANDO    SALAZAR                 51\n",
       "22  23        JORGE      RAMOS                 76\n",
       "23  24         LUIS  DOMINGUEZ                 12\n",
       "24  25      ALBERTO      ORTIZ                 99\n",
       "25  26  JUAN CARLOS     IBAÑEZ                 43\n",
       "26  27       ALVARO    RAMIREZ                 40\n",
       "27  28       ADRIAN       SAEZ                  7"
      ]
     },
     "execution_count": 127,
     "metadata": {},
     "output_type": "execute_result"
    }
   ],
   "source": [
    "calificaciones.tail(10)"
   ]
  },
  {
   "cell_type": "code",
   "execution_count": 128,
   "metadata": {},
   "outputs": [
    {
     "name": "stdout",
     "output_type": "stream",
     "text": [
      "<class 'pandas.core.frame.DataFrame'>\n",
      "RangeIndex: 28 entries, 0 to 27\n",
      "Data columns (total 4 columns):\n",
      " #   Column             Non-Null Count  Dtype \n",
      "---  ------             --------------  ----- \n",
      " 0   Id                 28 non-null     int64 \n",
      " 1   Nombre             28 non-null     object\n",
      " 2   Apellido           28 non-null     object\n",
      " 3   Calficación Final  28 non-null     int64 \n",
      "dtypes: int64(2), object(2)\n",
      "memory usage: 1.0+ KB\n"
     ]
    }
   ],
   "source": [
    "calificaciones.info()"
   ]
  },
  {
   "cell_type": "code",
   "execution_count": 129,
   "metadata": {},
   "outputs": [
    {
     "data": {
      "text/plain": [
       "(28, 4)"
      ]
     },
     "execution_count": 129,
     "metadata": {},
     "output_type": "execute_result"
    }
   ],
   "source": [
    "calificaciones.shape"
   ]
  },
  {
   "cell_type": "code",
   "execution_count": 131,
   "metadata": {},
   "outputs": [
    {
     "data": {
      "text/html": [
       "<div>\n",
       "<style scoped>\n",
       "    .dataframe tbody tr th:only-of-type {\n",
       "        vertical-align: middle;\n",
       "    }\n",
       "\n",
       "    .dataframe tbody tr th {\n",
       "        vertical-align: top;\n",
       "    }\n",
       "\n",
       "    .dataframe thead th {\n",
       "        text-align: right;\n",
       "    }\n",
       "</style>\n",
       "<table border=\"1\" class=\"dataframe\">\n",
       "  <thead>\n",
       "    <tr style=\"text-align: right;\">\n",
       "      <th></th>\n",
       "      <th>Id</th>\n",
       "      <th>Calficación Final</th>\n",
       "    </tr>\n",
       "  </thead>\n",
       "  <tbody>\n",
       "    <tr>\n",
       "      <th>count</th>\n",
       "      <td>28.000000</td>\n",
       "      <td>28.000000</td>\n",
       "    </tr>\n",
       "    <tr>\n",
       "      <th>mean</th>\n",
       "      <td>14.500000</td>\n",
       "      <td>52.000000</td>\n",
       "    </tr>\n",
       "    <tr>\n",
       "      <th>std</th>\n",
       "      <td>8.225975</td>\n",
       "      <td>34.113102</td>\n",
       "    </tr>\n",
       "    <tr>\n",
       "      <th>min</th>\n",
       "      <td>1.000000</td>\n",
       "      <td>1.000000</td>\n",
       "    </tr>\n",
       "    <tr>\n",
       "      <th>25%</th>\n",
       "      <td>7.750000</td>\n",
       "      <td>18.500000</td>\n",
       "    </tr>\n",
       "    <tr>\n",
       "      <th>50%</th>\n",
       "      <td>14.500000</td>\n",
       "      <td>48.500000</td>\n",
       "    </tr>\n",
       "    <tr>\n",
       "      <th>75%</th>\n",
       "      <td>21.250000</td>\n",
       "      <td>85.250000</td>\n",
       "    </tr>\n",
       "    <tr>\n",
       "      <th>max</th>\n",
       "      <td>28.000000</td>\n",
       "      <td>100.000000</td>\n",
       "    </tr>\n",
       "  </tbody>\n",
       "</table>\n",
       "</div>"
      ],
      "text/plain": [
       "              Id  Calficación Final\n",
       "count  28.000000          28.000000\n",
       "mean   14.500000          52.000000\n",
       "std     8.225975          34.113102\n",
       "min     1.000000           1.000000\n",
       "25%     7.750000          18.500000\n",
       "50%    14.500000          48.500000\n",
       "75%    21.250000          85.250000\n",
       "max    28.000000         100.000000"
      ]
     },
     "execution_count": 131,
     "metadata": {},
     "output_type": "execute_result"
    }
   ],
   "source": [
    "# Nos da las estadísticas descriptivas\n",
    "calificaciones.describe()"
   ]
  },
  {
   "cell_type": "code",
   "execution_count": 133,
   "metadata": {},
   "outputs": [],
   "source": [
    "# corregir nombre \n",
    "calificaciones=calificaciones.rename(columns={'Calficación Final': 'CalFinal'})"
   ]
  },
  {
   "cell_type": "code",
   "execution_count": 134,
   "metadata": {},
   "outputs": [
    {
     "data": {
      "text/html": [
       "<div>\n",
       "<style scoped>\n",
       "    .dataframe tbody tr th:only-of-type {\n",
       "        vertical-align: middle;\n",
       "    }\n",
       "\n",
       "    .dataframe tbody tr th {\n",
       "        vertical-align: top;\n",
       "    }\n",
       "\n",
       "    .dataframe thead th {\n",
       "        text-align: right;\n",
       "    }\n",
       "</style>\n",
       "<table border=\"1\" class=\"dataframe\">\n",
       "  <thead>\n",
       "    <tr style=\"text-align: right;\">\n",
       "      <th></th>\n",
       "      <th>Id</th>\n",
       "      <th>Nombre</th>\n",
       "      <th>Apellido</th>\n",
       "      <th>CalFinal</th>\n",
       "    </tr>\n",
       "  </thead>\n",
       "  <tbody>\n",
       "    <tr>\n",
       "      <th>0</th>\n",
       "      <td>1</td>\n",
       "      <td>ANTONIO</td>\n",
       "      <td>GARCIA</td>\n",
       "      <td>73</td>\n",
       "    </tr>\n",
       "    <tr>\n",
       "      <th>1</th>\n",
       "      <td>2</td>\n",
       "      <td>MANUEL</td>\n",
       "      <td>FERNANDEZ</td>\n",
       "      <td>19</td>\n",
       "    </tr>\n",
       "    <tr>\n",
       "      <th>2</th>\n",
       "      <td>3</td>\n",
       "      <td>JOSE</td>\n",
       "      <td>GONZALEZ</td>\n",
       "      <td>38</td>\n",
       "    </tr>\n",
       "    <tr>\n",
       "      <th>3</th>\n",
       "      <td>4</td>\n",
       "      <td>DAVID</td>\n",
       "      <td>PEREZ</td>\n",
       "      <td>14</td>\n",
       "    </tr>\n",
       "    <tr>\n",
       "      <th>4</th>\n",
       "      <td>5</td>\n",
       "      <td>JUAN</td>\n",
       "      <td>LOPEZ</td>\n",
       "      <td>99</td>\n",
       "    </tr>\n",
       "    <tr>\n",
       "      <th>5</th>\n",
       "      <td>6</td>\n",
       "      <td>JOSE ANTONIO</td>\n",
       "      <td>RODRIGUEZ</td>\n",
       "      <td>66</td>\n",
       "    </tr>\n",
       "    <tr>\n",
       "      <th>6</th>\n",
       "      <td>7</td>\n",
       "      <td>JAVIER</td>\n",
       "      <td>SANCHEZ</td>\n",
       "      <td>46</td>\n",
       "    </tr>\n",
       "    <tr>\n",
       "      <th>7</th>\n",
       "      <td>8</td>\n",
       "      <td>JOSE LUIS</td>\n",
       "      <td>GOMEZ</td>\n",
       "      <td>89</td>\n",
       "    </tr>\n",
       "    <tr>\n",
       "      <th>8</th>\n",
       "      <td>9</td>\n",
       "      <td>FRANCISCO JAVIER</td>\n",
       "      <td>JIMENEZ</td>\n",
       "      <td>10</td>\n",
       "    </tr>\n",
       "    <tr>\n",
       "      <th>9</th>\n",
       "      <td>10</td>\n",
       "      <td>CARLOS</td>\n",
       "      <td>RUIZ</td>\n",
       "      <td>62</td>\n",
       "    </tr>\n",
       "    <tr>\n",
       "      <th>10</th>\n",
       "      <td>11</td>\n",
       "      <td>JESUS</td>\n",
       "      <td>ALONSO</td>\n",
       "      <td>94</td>\n",
       "    </tr>\n",
       "    <tr>\n",
       "      <th>11</th>\n",
       "      <td>12</td>\n",
       "      <td>ALEJANDRO</td>\n",
       "      <td>HERNANDEZ</td>\n",
       "      <td>17</td>\n",
       "    </tr>\n",
       "    <tr>\n",
       "      <th>12</th>\n",
       "      <td>13</td>\n",
       "      <td>MIGUEL</td>\n",
       "      <td>DIAZ</td>\n",
       "      <td>85</td>\n",
       "    </tr>\n",
       "    <tr>\n",
       "      <th>13</th>\n",
       "      <td>14</td>\n",
       "      <td>JOSE MANUEL</td>\n",
       "      <td>GUTIERREZ</td>\n",
       "      <td>34</td>\n",
       "    </tr>\n",
       "    <tr>\n",
       "      <th>14</th>\n",
       "      <td>15</td>\n",
       "      <td>RAFAEL</td>\n",
       "      <td>ALVAREZ</td>\n",
       "      <td>86</td>\n",
       "    </tr>\n",
       "    <tr>\n",
       "      <th>15</th>\n",
       "      <td>16</td>\n",
       "      <td>MIGUEL ANGEL</td>\n",
       "      <td>MORENO</td>\n",
       "      <td>100</td>\n",
       "    </tr>\n",
       "    <tr>\n",
       "      <th>16</th>\n",
       "      <td>17</td>\n",
       "      <td>PEDRO</td>\n",
       "      <td>MUÑOZ</td>\n",
       "      <td>1</td>\n",
       "    </tr>\n",
       "    <tr>\n",
       "      <th>17</th>\n",
       "      <td>18</td>\n",
       "      <td>PABLO</td>\n",
       "      <td>BLANCO</td>\n",
       "      <td>64</td>\n",
       "    </tr>\n",
       "    <tr>\n",
       "      <th>18</th>\n",
       "      <td>19</td>\n",
       "      <td>ANGEL</td>\n",
       "      <td>GIL</td>\n",
       "      <td>100</td>\n",
       "    </tr>\n",
       "    <tr>\n",
       "      <th>19</th>\n",
       "      <td>20</td>\n",
       "      <td>SERGIO</td>\n",
       "      <td>AGUIRRE</td>\n",
       "      <td>2</td>\n",
       "    </tr>\n",
       "    <tr>\n",
       "      <th>20</th>\n",
       "      <td>21</td>\n",
       "      <td>JOSE MARIA</td>\n",
       "      <td>DIEZ</td>\n",
       "      <td>29</td>\n",
       "    </tr>\n",
       "    <tr>\n",
       "      <th>21</th>\n",
       "      <td>22</td>\n",
       "      <td>FERNANDO</td>\n",
       "      <td>SALAZAR</td>\n",
       "      <td>51</td>\n",
       "    </tr>\n",
       "    <tr>\n",
       "      <th>22</th>\n",
       "      <td>23</td>\n",
       "      <td>JORGE</td>\n",
       "      <td>RAMOS</td>\n",
       "      <td>76</td>\n",
       "    </tr>\n",
       "    <tr>\n",
       "      <th>23</th>\n",
       "      <td>24</td>\n",
       "      <td>LUIS</td>\n",
       "      <td>DOMINGUEZ</td>\n",
       "      <td>12</td>\n",
       "    </tr>\n",
       "    <tr>\n",
       "      <th>24</th>\n",
       "      <td>25</td>\n",
       "      <td>ALBERTO</td>\n",
       "      <td>ORTIZ</td>\n",
       "      <td>99</td>\n",
       "    </tr>\n",
       "    <tr>\n",
       "      <th>25</th>\n",
       "      <td>26</td>\n",
       "      <td>JUAN CARLOS</td>\n",
       "      <td>IBAÑEZ</td>\n",
       "      <td>43</td>\n",
       "    </tr>\n",
       "    <tr>\n",
       "      <th>26</th>\n",
       "      <td>27</td>\n",
       "      <td>ALVARO</td>\n",
       "      <td>RAMIREZ</td>\n",
       "      <td>40</td>\n",
       "    </tr>\n",
       "    <tr>\n",
       "      <th>27</th>\n",
       "      <td>28</td>\n",
       "      <td>ADRIAN</td>\n",
       "      <td>SAEZ</td>\n",
       "      <td>7</td>\n",
       "    </tr>\n",
       "  </tbody>\n",
       "</table>\n",
       "</div>"
      ],
      "text/plain": [
       "    Id            Nombre   Apellido  CalFinal\n",
       "0    1           ANTONIO     GARCIA        73\n",
       "1    2            MANUEL  FERNANDEZ        19\n",
       "2    3              JOSE   GONZALEZ        38\n",
       "3    4             DAVID      PEREZ        14\n",
       "4    5              JUAN      LOPEZ        99\n",
       "5    6      JOSE ANTONIO  RODRIGUEZ        66\n",
       "6    7            JAVIER    SANCHEZ        46\n",
       "7    8         JOSE LUIS      GOMEZ        89\n",
       "8    9  FRANCISCO JAVIER    JIMENEZ        10\n",
       "9   10            CARLOS       RUIZ        62\n",
       "10  11             JESUS     ALONSO        94\n",
       "11  12         ALEJANDRO  HERNANDEZ        17\n",
       "12  13            MIGUEL       DIAZ        85\n",
       "13  14       JOSE MANUEL  GUTIERREZ        34\n",
       "14  15            RAFAEL    ALVAREZ        86\n",
       "15  16      MIGUEL ANGEL     MORENO       100\n",
       "16  17             PEDRO      MUÑOZ         1\n",
       "17  18             PABLO     BLANCO        64\n",
       "18  19             ANGEL        GIL       100\n",
       "19  20            SERGIO    AGUIRRE         2\n",
       "20  21        JOSE MARIA       DIEZ        29\n",
       "21  22          FERNANDO    SALAZAR        51\n",
       "22  23             JORGE      RAMOS        76\n",
       "23  24              LUIS  DOMINGUEZ        12\n",
       "24  25           ALBERTO      ORTIZ        99\n",
       "25  26       JUAN CARLOS     IBAÑEZ        43\n",
       "26  27            ALVARO    RAMIREZ        40\n",
       "27  28            ADRIAN       SAEZ         7"
      ]
     },
     "execution_count": 134,
     "metadata": {},
     "output_type": "execute_result"
    }
   ],
   "source": [
    "calificaciones"
   ]
  },
  {
   "cell_type": "code",
   "execution_count": 135,
   "metadata": {},
   "outputs": [],
   "source": [
    "del calificaciones['Id']"
   ]
  },
  {
   "cell_type": "markdown",
   "metadata": {},
   "source": [
    "Otra forma de eliminarlo sería de la siguiente forma:\n",
    "\n",
    "calificaciones.loc[:,calificaciones.columns!='Id']"
   ]
  },
  {
   "cell_type": "code",
   "execution_count": 136,
   "metadata": {},
   "outputs": [
    {
     "data": {
      "text/html": [
       "<div>\n",
       "<style scoped>\n",
       "    .dataframe tbody tr th:only-of-type {\n",
       "        vertical-align: middle;\n",
       "    }\n",
       "\n",
       "    .dataframe tbody tr th {\n",
       "        vertical-align: top;\n",
       "    }\n",
       "\n",
       "    .dataframe thead th {\n",
       "        text-align: right;\n",
       "    }\n",
       "</style>\n",
       "<table border=\"1\" class=\"dataframe\">\n",
       "  <thead>\n",
       "    <tr style=\"text-align: right;\">\n",
       "      <th></th>\n",
       "      <th>Nombre</th>\n",
       "      <th>Apellido</th>\n",
       "      <th>CalFinal</th>\n",
       "    </tr>\n",
       "  </thead>\n",
       "  <tbody>\n",
       "    <tr>\n",
       "      <th>0</th>\n",
       "      <td>ANTONIO</td>\n",
       "      <td>GARCIA</td>\n",
       "      <td>73</td>\n",
       "    </tr>\n",
       "    <tr>\n",
       "      <th>1</th>\n",
       "      <td>MANUEL</td>\n",
       "      <td>FERNANDEZ</td>\n",
       "      <td>19</td>\n",
       "    </tr>\n",
       "    <tr>\n",
       "      <th>2</th>\n",
       "      <td>JOSE</td>\n",
       "      <td>GONZALEZ</td>\n",
       "      <td>38</td>\n",
       "    </tr>\n",
       "    <tr>\n",
       "      <th>3</th>\n",
       "      <td>DAVID</td>\n",
       "      <td>PEREZ</td>\n",
       "      <td>14</td>\n",
       "    </tr>\n",
       "    <tr>\n",
       "      <th>4</th>\n",
       "      <td>JUAN</td>\n",
       "      <td>LOPEZ</td>\n",
       "      <td>99</td>\n",
       "    </tr>\n",
       "    <tr>\n",
       "      <th>5</th>\n",
       "      <td>JOSE ANTONIO</td>\n",
       "      <td>RODRIGUEZ</td>\n",
       "      <td>66</td>\n",
       "    </tr>\n",
       "    <tr>\n",
       "      <th>6</th>\n",
       "      <td>JAVIER</td>\n",
       "      <td>SANCHEZ</td>\n",
       "      <td>46</td>\n",
       "    </tr>\n",
       "    <tr>\n",
       "      <th>7</th>\n",
       "      <td>JOSE LUIS</td>\n",
       "      <td>GOMEZ</td>\n",
       "      <td>89</td>\n",
       "    </tr>\n",
       "    <tr>\n",
       "      <th>8</th>\n",
       "      <td>FRANCISCO JAVIER</td>\n",
       "      <td>JIMENEZ</td>\n",
       "      <td>10</td>\n",
       "    </tr>\n",
       "    <tr>\n",
       "      <th>9</th>\n",
       "      <td>CARLOS</td>\n",
       "      <td>RUIZ</td>\n",
       "      <td>62</td>\n",
       "    </tr>\n",
       "    <tr>\n",
       "      <th>10</th>\n",
       "      <td>JESUS</td>\n",
       "      <td>ALONSO</td>\n",
       "      <td>94</td>\n",
       "    </tr>\n",
       "    <tr>\n",
       "      <th>11</th>\n",
       "      <td>ALEJANDRO</td>\n",
       "      <td>HERNANDEZ</td>\n",
       "      <td>17</td>\n",
       "    </tr>\n",
       "    <tr>\n",
       "      <th>12</th>\n",
       "      <td>MIGUEL</td>\n",
       "      <td>DIAZ</td>\n",
       "      <td>85</td>\n",
       "    </tr>\n",
       "    <tr>\n",
       "      <th>13</th>\n",
       "      <td>JOSE MANUEL</td>\n",
       "      <td>GUTIERREZ</td>\n",
       "      <td>34</td>\n",
       "    </tr>\n",
       "    <tr>\n",
       "      <th>14</th>\n",
       "      <td>RAFAEL</td>\n",
       "      <td>ALVAREZ</td>\n",
       "      <td>86</td>\n",
       "    </tr>\n",
       "    <tr>\n",
       "      <th>15</th>\n",
       "      <td>MIGUEL ANGEL</td>\n",
       "      <td>MORENO</td>\n",
       "      <td>100</td>\n",
       "    </tr>\n",
       "    <tr>\n",
       "      <th>16</th>\n",
       "      <td>PEDRO</td>\n",
       "      <td>MUÑOZ</td>\n",
       "      <td>1</td>\n",
       "    </tr>\n",
       "    <tr>\n",
       "      <th>17</th>\n",
       "      <td>PABLO</td>\n",
       "      <td>BLANCO</td>\n",
       "      <td>64</td>\n",
       "    </tr>\n",
       "    <tr>\n",
       "      <th>18</th>\n",
       "      <td>ANGEL</td>\n",
       "      <td>GIL</td>\n",
       "      <td>100</td>\n",
       "    </tr>\n",
       "    <tr>\n",
       "      <th>19</th>\n",
       "      <td>SERGIO</td>\n",
       "      <td>AGUIRRE</td>\n",
       "      <td>2</td>\n",
       "    </tr>\n",
       "    <tr>\n",
       "      <th>20</th>\n",
       "      <td>JOSE MARIA</td>\n",
       "      <td>DIEZ</td>\n",
       "      <td>29</td>\n",
       "    </tr>\n",
       "    <tr>\n",
       "      <th>21</th>\n",
       "      <td>FERNANDO</td>\n",
       "      <td>SALAZAR</td>\n",
       "      <td>51</td>\n",
       "    </tr>\n",
       "    <tr>\n",
       "      <th>22</th>\n",
       "      <td>JORGE</td>\n",
       "      <td>RAMOS</td>\n",
       "      <td>76</td>\n",
       "    </tr>\n",
       "    <tr>\n",
       "      <th>23</th>\n",
       "      <td>LUIS</td>\n",
       "      <td>DOMINGUEZ</td>\n",
       "      <td>12</td>\n",
       "    </tr>\n",
       "    <tr>\n",
       "      <th>24</th>\n",
       "      <td>ALBERTO</td>\n",
       "      <td>ORTIZ</td>\n",
       "      <td>99</td>\n",
       "    </tr>\n",
       "    <tr>\n",
       "      <th>25</th>\n",
       "      <td>JUAN CARLOS</td>\n",
       "      <td>IBAÑEZ</td>\n",
       "      <td>43</td>\n",
       "    </tr>\n",
       "    <tr>\n",
       "      <th>26</th>\n",
       "      <td>ALVARO</td>\n",
       "      <td>RAMIREZ</td>\n",
       "      <td>40</td>\n",
       "    </tr>\n",
       "    <tr>\n",
       "      <th>27</th>\n",
       "      <td>ADRIAN</td>\n",
       "      <td>SAEZ</td>\n",
       "      <td>7</td>\n",
       "    </tr>\n",
       "  </tbody>\n",
       "</table>\n",
       "</div>"
      ],
      "text/plain": [
       "              Nombre   Apellido  CalFinal\n",
       "0            ANTONIO     GARCIA        73\n",
       "1             MANUEL  FERNANDEZ        19\n",
       "2               JOSE   GONZALEZ        38\n",
       "3              DAVID      PEREZ        14\n",
       "4               JUAN      LOPEZ        99\n",
       "5       JOSE ANTONIO  RODRIGUEZ        66\n",
       "6             JAVIER    SANCHEZ        46\n",
       "7          JOSE LUIS      GOMEZ        89\n",
       "8   FRANCISCO JAVIER    JIMENEZ        10\n",
       "9             CARLOS       RUIZ        62\n",
       "10             JESUS     ALONSO        94\n",
       "11         ALEJANDRO  HERNANDEZ        17\n",
       "12            MIGUEL       DIAZ        85\n",
       "13       JOSE MANUEL  GUTIERREZ        34\n",
       "14            RAFAEL    ALVAREZ        86\n",
       "15      MIGUEL ANGEL     MORENO       100\n",
       "16             PEDRO      MUÑOZ         1\n",
       "17             PABLO     BLANCO        64\n",
       "18             ANGEL        GIL       100\n",
       "19            SERGIO    AGUIRRE         2\n",
       "20        JOSE MARIA       DIEZ        29\n",
       "21          FERNANDO    SALAZAR        51\n",
       "22             JORGE      RAMOS        76\n",
       "23              LUIS  DOMINGUEZ        12\n",
       "24           ALBERTO      ORTIZ        99\n",
       "25       JUAN CARLOS     IBAÑEZ        43\n",
       "26            ALVARO    RAMIREZ        40\n",
       "27            ADRIAN       SAEZ         7"
      ]
     },
     "execution_count": 136,
     "metadata": {},
     "output_type": "execute_result"
    }
   ],
   "source": [
    "calificaciones"
   ]
  },
  {
   "cell_type": "markdown",
   "metadata": {},
   "source": [
    "De este dataframe se requiere saber:\n",
    "1. Promedio del grupo\n",
    "2. Nueva columna con Aprobado/Reprobado\n",
    "3. Numero de aprobados/reprobados\n",
    "4. Promedio de aprobados/reprobados"
   ]
  },
  {
   "cell_type": "code",
   "execution_count": 137,
   "metadata": {},
   "outputs": [],
   "source": [
    "Promedio_Grupo=calificaciones['CalFinal'].mean()"
   ]
  },
  {
   "cell_type": "code",
   "execution_count": 138,
   "metadata": {},
   "outputs": [
    {
     "data": {
      "text/plain": [
       "52.0"
      ]
     },
     "execution_count": 138,
     "metadata": {},
     "output_type": "execute_result"
    }
   ],
   "source": [
    "Promedio_Grupo"
   ]
  },
  {
   "cell_type": "code",
   "execution_count": 139,
   "metadata": {},
   "outputs": [
    {
     "data": {
      "text/html": [
       "<div>\n",
       "<style scoped>\n",
       "    .dataframe tbody tr th:only-of-type {\n",
       "        vertical-align: middle;\n",
       "    }\n",
       "\n",
       "    .dataframe tbody tr th {\n",
       "        vertical-align: top;\n",
       "    }\n",
       "\n",
       "    .dataframe thead th {\n",
       "        text-align: right;\n",
       "    }\n",
       "</style>\n",
       "<table border=\"1\" class=\"dataframe\">\n",
       "  <thead>\n",
       "    <tr style=\"text-align: right;\">\n",
       "      <th></th>\n",
       "      <th>Nombre</th>\n",
       "      <th>Apellido</th>\n",
       "      <th>CalFinal</th>\n",
       "      <th>Situación</th>\n",
       "    </tr>\n",
       "  </thead>\n",
       "  <tbody>\n",
       "    <tr>\n",
       "      <th>0</th>\n",
       "      <td>ANTONIO</td>\n",
       "      <td>GARCIA</td>\n",
       "      <td>73</td>\n",
       "      <td>Aprobado</td>\n",
       "    </tr>\n",
       "    <tr>\n",
       "      <th>1</th>\n",
       "      <td>MANUEL</td>\n",
       "      <td>FERNANDEZ</td>\n",
       "      <td>19</td>\n",
       "      <td>Reprobado</td>\n",
       "    </tr>\n",
       "    <tr>\n",
       "      <th>2</th>\n",
       "      <td>JOSE</td>\n",
       "      <td>GONZALEZ</td>\n",
       "      <td>38</td>\n",
       "      <td>Reprobado</td>\n",
       "    </tr>\n",
       "    <tr>\n",
       "      <th>3</th>\n",
       "      <td>DAVID</td>\n",
       "      <td>PEREZ</td>\n",
       "      <td>14</td>\n",
       "      <td>Reprobado</td>\n",
       "    </tr>\n",
       "    <tr>\n",
       "      <th>4</th>\n",
       "      <td>JUAN</td>\n",
       "      <td>LOPEZ</td>\n",
       "      <td>99</td>\n",
       "      <td>Aprobado</td>\n",
       "    </tr>\n",
       "    <tr>\n",
       "      <th>5</th>\n",
       "      <td>JOSE ANTONIO</td>\n",
       "      <td>RODRIGUEZ</td>\n",
       "      <td>66</td>\n",
       "      <td>Reprobado</td>\n",
       "    </tr>\n",
       "    <tr>\n",
       "      <th>6</th>\n",
       "      <td>JAVIER</td>\n",
       "      <td>SANCHEZ</td>\n",
       "      <td>46</td>\n",
       "      <td>Reprobado</td>\n",
       "    </tr>\n",
       "    <tr>\n",
       "      <th>7</th>\n",
       "      <td>JOSE LUIS</td>\n",
       "      <td>GOMEZ</td>\n",
       "      <td>89</td>\n",
       "      <td>Aprobado</td>\n",
       "    </tr>\n",
       "    <tr>\n",
       "      <th>8</th>\n",
       "      <td>FRANCISCO JAVIER</td>\n",
       "      <td>JIMENEZ</td>\n",
       "      <td>10</td>\n",
       "      <td>Reprobado</td>\n",
       "    </tr>\n",
       "    <tr>\n",
       "      <th>9</th>\n",
       "      <td>CARLOS</td>\n",
       "      <td>RUIZ</td>\n",
       "      <td>62</td>\n",
       "      <td>Reprobado</td>\n",
       "    </tr>\n",
       "    <tr>\n",
       "      <th>10</th>\n",
       "      <td>JESUS</td>\n",
       "      <td>ALONSO</td>\n",
       "      <td>94</td>\n",
       "      <td>Aprobado</td>\n",
       "    </tr>\n",
       "    <tr>\n",
       "      <th>11</th>\n",
       "      <td>ALEJANDRO</td>\n",
       "      <td>HERNANDEZ</td>\n",
       "      <td>17</td>\n",
       "      <td>Reprobado</td>\n",
       "    </tr>\n",
       "    <tr>\n",
       "      <th>12</th>\n",
       "      <td>MIGUEL</td>\n",
       "      <td>DIAZ</td>\n",
       "      <td>85</td>\n",
       "      <td>Aprobado</td>\n",
       "    </tr>\n",
       "    <tr>\n",
       "      <th>13</th>\n",
       "      <td>JOSE MANUEL</td>\n",
       "      <td>GUTIERREZ</td>\n",
       "      <td>34</td>\n",
       "      <td>Reprobado</td>\n",
       "    </tr>\n",
       "    <tr>\n",
       "      <th>14</th>\n",
       "      <td>RAFAEL</td>\n",
       "      <td>ALVAREZ</td>\n",
       "      <td>86</td>\n",
       "      <td>Aprobado</td>\n",
       "    </tr>\n",
       "    <tr>\n",
       "      <th>15</th>\n",
       "      <td>MIGUEL ANGEL</td>\n",
       "      <td>MORENO</td>\n",
       "      <td>100</td>\n",
       "      <td>Aprobado</td>\n",
       "    </tr>\n",
       "    <tr>\n",
       "      <th>16</th>\n",
       "      <td>PEDRO</td>\n",
       "      <td>MUÑOZ</td>\n",
       "      <td>1</td>\n",
       "      <td>Reprobado</td>\n",
       "    </tr>\n",
       "    <tr>\n",
       "      <th>17</th>\n",
       "      <td>PABLO</td>\n",
       "      <td>BLANCO</td>\n",
       "      <td>64</td>\n",
       "      <td>Reprobado</td>\n",
       "    </tr>\n",
       "    <tr>\n",
       "      <th>18</th>\n",
       "      <td>ANGEL</td>\n",
       "      <td>GIL</td>\n",
       "      <td>100</td>\n",
       "      <td>Aprobado</td>\n",
       "    </tr>\n",
       "    <tr>\n",
       "      <th>19</th>\n",
       "      <td>SERGIO</td>\n",
       "      <td>AGUIRRE</td>\n",
       "      <td>2</td>\n",
       "      <td>Reprobado</td>\n",
       "    </tr>\n",
       "    <tr>\n",
       "      <th>20</th>\n",
       "      <td>JOSE MARIA</td>\n",
       "      <td>DIEZ</td>\n",
       "      <td>29</td>\n",
       "      <td>Reprobado</td>\n",
       "    </tr>\n",
       "    <tr>\n",
       "      <th>21</th>\n",
       "      <td>FERNANDO</td>\n",
       "      <td>SALAZAR</td>\n",
       "      <td>51</td>\n",
       "      <td>Reprobado</td>\n",
       "    </tr>\n",
       "    <tr>\n",
       "      <th>22</th>\n",
       "      <td>JORGE</td>\n",
       "      <td>RAMOS</td>\n",
       "      <td>76</td>\n",
       "      <td>Aprobado</td>\n",
       "    </tr>\n",
       "    <tr>\n",
       "      <th>23</th>\n",
       "      <td>LUIS</td>\n",
       "      <td>DOMINGUEZ</td>\n",
       "      <td>12</td>\n",
       "      <td>Reprobado</td>\n",
       "    </tr>\n",
       "    <tr>\n",
       "      <th>24</th>\n",
       "      <td>ALBERTO</td>\n",
       "      <td>ORTIZ</td>\n",
       "      <td>99</td>\n",
       "      <td>Aprobado</td>\n",
       "    </tr>\n",
       "    <tr>\n",
       "      <th>25</th>\n",
       "      <td>JUAN CARLOS</td>\n",
       "      <td>IBAÑEZ</td>\n",
       "      <td>43</td>\n",
       "      <td>Reprobado</td>\n",
       "    </tr>\n",
       "    <tr>\n",
       "      <th>26</th>\n",
       "      <td>ALVARO</td>\n",
       "      <td>RAMIREZ</td>\n",
       "      <td>40</td>\n",
       "      <td>Reprobado</td>\n",
       "    </tr>\n",
       "    <tr>\n",
       "      <th>27</th>\n",
       "      <td>ADRIAN</td>\n",
       "      <td>SAEZ</td>\n",
       "      <td>7</td>\n",
       "      <td>Reprobado</td>\n",
       "    </tr>\n",
       "  </tbody>\n",
       "</table>\n",
       "</div>"
      ],
      "text/plain": [
       "              Nombre   Apellido  CalFinal  Situación\n",
       "0            ANTONIO     GARCIA        73   Aprobado\n",
       "1             MANUEL  FERNANDEZ        19  Reprobado\n",
       "2               JOSE   GONZALEZ        38  Reprobado\n",
       "3              DAVID      PEREZ        14  Reprobado\n",
       "4               JUAN      LOPEZ        99   Aprobado\n",
       "5       JOSE ANTONIO  RODRIGUEZ        66  Reprobado\n",
       "6             JAVIER    SANCHEZ        46  Reprobado\n",
       "7          JOSE LUIS      GOMEZ        89   Aprobado\n",
       "8   FRANCISCO JAVIER    JIMENEZ        10  Reprobado\n",
       "9             CARLOS       RUIZ        62  Reprobado\n",
       "10             JESUS     ALONSO        94   Aprobado\n",
       "11         ALEJANDRO  HERNANDEZ        17  Reprobado\n",
       "12            MIGUEL       DIAZ        85   Aprobado\n",
       "13       JOSE MANUEL  GUTIERREZ        34  Reprobado\n",
       "14            RAFAEL    ALVAREZ        86   Aprobado\n",
       "15      MIGUEL ANGEL     MORENO       100   Aprobado\n",
       "16             PEDRO      MUÑOZ         1  Reprobado\n",
       "17             PABLO     BLANCO        64  Reprobado\n",
       "18             ANGEL        GIL       100   Aprobado\n",
       "19            SERGIO    AGUIRRE         2  Reprobado\n",
       "20        JOSE MARIA       DIEZ        29  Reprobado\n",
       "21          FERNANDO    SALAZAR        51  Reprobado\n",
       "22             JORGE      RAMOS        76   Aprobado\n",
       "23              LUIS  DOMINGUEZ        12  Reprobado\n",
       "24           ALBERTO      ORTIZ        99   Aprobado\n",
       "25       JUAN CARLOS     IBAÑEZ        43  Reprobado\n",
       "26            ALVARO    RAMIREZ        40  Reprobado\n",
       "27            ADRIAN       SAEZ         7  Reprobado"
      ]
     },
     "execution_count": 139,
     "metadata": {},
     "output_type": "execute_result"
    }
   ],
   "source": [
    "\n",
    "calificaciones['Situación']=np.where(calificaciones['CalFinal']>=70,'Aprobado','Reprobado')\n",
    "calificaciones"
   ]
  },
  {
   "cell_type": "code",
   "execution_count": 140,
   "metadata": {},
   "outputs": [
    {
     "data": {
      "text/plain": [
       "Situación\n",
       "Reprobado    18\n",
       "Aprobado     10\n",
       "Name: count, dtype: int64"
      ]
     },
     "execution_count": 140,
     "metadata": {},
     "output_type": "execute_result"
    }
   ],
   "source": [
    "calificaciones.value_counts('Situación')"
   ]
  },
  {
   "cell_type": "code",
   "execution_count": 143,
   "metadata": {},
   "outputs": [
    {
     "data": {
      "text/plain": [
       "Situación\n",
       "Aprobado     90.10\n",
       "Reprobado    30.83\n",
       "Name: CalFinal, dtype: float64"
      ]
     },
     "execution_count": 143,
     "metadata": {},
     "output_type": "execute_result"
    }
   ],
   "source": [
    "calificaciones.groupby('Situación')['CalFinal'].agg('mean').round(2)"
   ]
  }
 ],
 "metadata": {
  "kernelspec": {
   "display_name": "Python 3",
   "language": "python",
   "name": "python3"
  },
  "language_info": {
   "codemirror_mode": {
    "name": "ipython",
    "version": 3
   },
   "file_extension": ".py",
   "mimetype": "text/x-python",
   "name": "python",
   "nbconvert_exporter": "python",
   "pygments_lexer": "ipython3",
   "version": "3.11.4"
  },
  "orig_nbformat": 4
 },
 "nbformat": 4,
 "nbformat_minor": 2
}
